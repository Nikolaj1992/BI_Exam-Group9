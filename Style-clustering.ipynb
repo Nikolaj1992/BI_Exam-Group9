{
 "cells": [
  {
   "cell_type": "markdown",
   "id": "ff6c3db4-b74a-4c97-a619-aa9e4f2483d3",
   "metadata": {},
   "source": [
    "### Clustering Eurovision Finalists: A Machine Learning Approach\n",
    "This notebook performs clustering on Eurovision finalists' data using unsupervised learning techniques such as PCA, KMeans, and Silhouette Analysis."
   ]
  },
  {
   "cell_type": "markdown",
   "id": "fdafc6e9-e6a8-44c4-b1b4-42e3ab102c35",
   "metadata": {},
   "source": [
    "#### Install Required Libraries"
   ]
  },
  {
   "cell_type": "code",
   "execution_count": null,
   "id": "b98ed218-2e8a-4c8b-af82-a4249f150fb1",
   "metadata": {},
   "outputs": [],
   "source": [
    "!pip install yellowbrick"
   ]
  },
  {
   "cell_type": "code",
   "execution_count": null,
   "id": "510a3392-6825-4f76-b137-0ca398249aa0",
   "metadata": {},
   "outputs": [],
   "source": [
    "!pip install pycountry"
   ]
  },
  {
   "cell_type": "markdown",
   "id": "ad549ee2-952f-4dca-b885-c197c8cb77bc",
   "metadata": {},
   "source": [
    "#### Import Libraries"
   ]
  },
  {
   "cell_type": "code",
   "execution_count": 1,
   "id": "99ce2ab5-0129-4bb2-86ac-415e2c198a01",
   "metadata": {},
   "outputs": [],
   "source": [
    "import pandas as pd\n",
    "import numpy as np\n",
    "from sklearn.preprocessing import StandardScaler\n",
    "from sklearn.cluster import KMeans\n",
    "from sklearn.decomposition import PCA\n",
    "from yellowbrick.cluster import SilhouetteVisualizer\n",
    "import matplotlib.pyplot as plt\n",
    "from scipy.spatial.distance import cdist\n",
    "import seaborn as sns"
   ]
  },
  {
   "cell_type": "markdown",
   "id": "85d45557-d912-4214-a9d0-a1b6b0c7a60c",
   "metadata": {},
   "source": [
    "#### Load and Prepare"
   ]
  },
  {
   "cell_type": "code",
   "execution_count": 3,
   "id": "a8256769-2482-4bdd-9890-0a5e6e0da456",
   "metadata": {},
   "outputs": [],
   "source": [
    "df = pd.read_csv('Data/finalists_cleaned.csv')"
   ]
  },
  {
   "cell_type": "markdown",
   "id": "46efb37a-4211-458a-bb37-a4c4c2672af5",
   "metadata": {},
   "source": [
    "####  Select and Encode Features\n",
    "Select important features for clustering.\n",
    "One-hot encode categorical columns (country, style) to make them numeric."
   ]
  },
  {
   "cell_type": "code",
   "execution_count": 7,
   "id": "1e279758-3f2b-46b8-8523-ba1220432765",
   "metadata": {},
   "outputs": [],
   "source": [
    "# Load and select relevant columns\n",
    "df_cluster = df[['year', 'country', 'style', 'final_total_points']].copy()"
   ]
  },
  {
   "cell_type": "code",
   "execution_count": 9,
   "id": "8696fa37-534f-4d8f-aa9f-d119940a04d6",
   "metadata": {},
   "outputs": [],
   "source": [
    "# One-hot encode categorical variables\n",
    "df_cluster = pd.get_dummies(df_cluster, columns=['country', 'style'])"
   ]
  },
  {
   "cell_type": "code",
   "execution_count": 11,
   "id": "5b9b85cb-6138-43dd-b249-9a7d0ddb4690",
   "metadata": {},
   "outputs": [
    {
     "name": "stdout",
     "output_type": "stream",
     "text": [
      "<class 'pandas.core.frame.DataFrame'>\n",
      "RangeIndex: 358 entries, 0 to 357\n",
      "Data columns (total 53 columns):\n",
      " #   Column                          Non-Null Count  Dtype  \n",
      "---  ------                          --------------  -----  \n",
      " 0   year                            358 non-null    int64  \n",
      " 1   final_total_points              358 non-null    float64\n",
      " 2   country_Albania                 358 non-null    bool   \n",
      " 3   country_Armenia                 358 non-null    bool   \n",
      " 4   country_Australia               358 non-null    bool   \n",
      " 5   country_Austria                 358 non-null    bool   \n",
      " 6   country_Azerbaijan              358 non-null    bool   \n",
      " 7   country_Belarus                 358 non-null    bool   \n",
      " 8   country_Belgium                 358 non-null    bool   \n",
      " 9   country_Bosnia and Herzegovina  358 non-null    bool   \n",
      " 10  country_Bulgaria                358 non-null    bool   \n",
      " 11  country_Croatia                 358 non-null    bool   \n",
      " 12  country_Cyprus                  358 non-null    bool   \n",
      " 13  country_Czech Republic          358 non-null    bool   \n",
      " 14  country_Denmark                 358 non-null    bool   \n",
      " 15  country_Estonia                 358 non-null    bool   \n",
      " 16  country_Finland                 358 non-null    bool   \n",
      " 17  country_France                  358 non-null    bool   \n",
      " 18  country_Georgia                 358 non-null    bool   \n",
      " 19  country_Germany                 358 non-null    bool   \n",
      " 20  country_Greece                  358 non-null    bool   \n",
      " 21  country_Hungary                 358 non-null    bool   \n",
      " 22  country_Iceland                 358 non-null    bool   \n",
      " 23  country_Ireland                 358 non-null    bool   \n",
      " 24  country_Israel                  358 non-null    bool   \n",
      " 25  country_Italy                   358 non-null    bool   \n",
      " 26  country_Latvia                  358 non-null    bool   \n",
      " 27  country_Lithuania               358 non-null    bool   \n",
      " 28  country_Malta                   358 non-null    bool   \n",
      " 29  country_Moldova                 358 non-null    bool   \n",
      " 30  country_Montenegro              358 non-null    bool   \n",
      " 31  country_Netherlands             358 non-null    bool   \n",
      " 32  country_North Macedonia         358 non-null    bool   \n",
      " 33  country_Norway                  358 non-null    bool   \n",
      " 34  country_Poland                  358 non-null    bool   \n",
      " 35  country_Portugal                358 non-null    bool   \n",
      " 36  country_Romania                 358 non-null    bool   \n",
      " 37  country_Russia                  358 non-null    bool   \n",
      " 38  country_San Marino              358 non-null    bool   \n",
      " 39  country_Serbia                  358 non-null    bool   \n",
      " 40  country_Slovenia                358 non-null    bool   \n",
      " 41  country_Spain                   358 non-null    bool   \n",
      " 42  country_Sweden                  358 non-null    bool   \n",
      " 43  country_Switzerland             358 non-null    bool   \n",
      " 44  country_Turkey                  358 non-null    bool   \n",
      " 45  country_Ukraine                 358 non-null    bool   \n",
      " 46  country_United Kingdom          358 non-null    bool   \n",
      " 47  style_Ballad                    358 non-null    bool   \n",
      " 48  style_Dance                     358 non-null    bool   \n",
      " 49  style_Opera                     358 non-null    bool   \n",
      " 50  style_Pop                       358 non-null    bool   \n",
      " 51  style_Rock                      358 non-null    bool   \n",
      " 52  style_Traditional               358 non-null    bool   \n",
      "dtypes: bool(51), float64(1), int64(1)\n",
      "memory usage: 23.6 KB\n"
     ]
    }
   ],
   "source": [
    "df_cluster.info()"
   ]
  },
  {
   "cell_type": "markdown",
   "id": "12a6dc51-2168-4f70-9e47-bed496670684",
   "metadata": {},
   "source": [
    "#### Scale the data"
   ]
  },
  {
   "cell_type": "code",
   "execution_count": 14,
   "id": "37c50371-4304-4fbf-be5e-e5d49e57be11",
   "metadata": {},
   "outputs": [],
   "source": [
    "scaler = StandardScaler()\n",
    "X_scaled = scaler.fit_transform(df_cluster)\n"
   ]
  },
  {
   "cell_type": "markdown",
   "id": "8890fe51-716d-4ebd-9b29-5172a0ef3764",
   "metadata": {},
   "source": [
    "#### Reduce Dimensions with PCA\n",
    "Use Principal Component Analysis to reduce the data to 2 dimensions for visualization and clustering."
   ]
  },
  {
   "cell_type": "code",
   "execution_count": 17,
   "id": "65b2f211-feac-40d4-8c73-c55fa44b34a7",
   "metadata": {},
   "outputs": [],
   "source": [
    "pca = PCA(n_components=2)\n",
    "X = pca.fit_transform(X_scaled) \n"
   ]
  },
  {
   "cell_type": "code",
   "execution_count": 23,
   "id": "eb97037e-68e5-4b02-816e-d91cb01205e0",
   "metadata": {},
   "outputs": [
    {
     "data": {
      "image/png": "[encoded data removed]",
      "text/plain": [
       "<Figure size 800x600 with 1 Axes>"
      ]
     },
     "metadata": {},
     "output_type": "display_data"
    }
   ],
   "source": [
    "plt.figure(figsize=(8,6))\n",
    "plt.scatter(X[:, 0], X[:, 1], alpha=0.7)\n",
    "plt.xlabel('Principal Component 1')\n",
    "plt.ylabel('Principal Component 2')\n",
    "plt.title('PCA Projection (2 components)')\n",
    "plt.grid(True)\n",
    "plt.show()"
   ]
  },
  {
   "cell_type": "markdown",
   "id": "66fc1c3c-ff9b-48b9-ab86-8cff2b385ee9",
   "metadata": {},
   "source": [
    "#### Find Optimal K (Elbow Method)"
   ]
  },
  {
   "cell_type": "markdown",
   "id": "d697e3ba-26ef-4674-8dd7-400cd423765c",
   "metadata": {},
   "source": [
    "Calculate distortion (intra-cluster distances) for different values of k to determine the best number of clusters."
   ]
  },
  {
   "cell_type": "code",
   "execution_count": null,
   "id": "d6fb45fc-f4dc-4e01-847f-bc9be8bc77e1",
   "metadata": {},
   "outputs": [],
   "source": [
    "distortions = []\n",
    "K = range(2, 10)\n",
    "\n",
    "for k in K:\n",
    "    model = KMeans(n_clusters=k, n_init=10, random_state=42)\n",
    "    model.fit(X)\n",
    "    # Calculate average minimum distance to cluster centers\n",
    "    dist = sum(np.min(cdist(X, model.cluster_centers_, 'euclidean'), axis=1)) / X.shape[0]\n",
    "    distortions.append(dist)\n",
    "\n",
    "print(\"Distortion values:\", distortions)\n"
   ]
  },
  {
   "cell_type": "markdown",
   "id": "613375ac-27b2-4c33-b56f-351ec0eb1910",
   "metadata": {},
   "source": [
    "#### Plot the Elbow Curve\n",
    "Visualize distortion vs. cluster count to identify the \"elbow\" — the optimal number of clusters."
   ]
  },
  {
   "cell_type": "code",
   "execution_count": null,
   "id": "f1f02617-255c-4a9a-91fe-25d8a8ab7022",
   "metadata": {},
   "outputs": [],
   "source": [
    "plt.title('Elbow Method for Optimal K')\n",
    "plt.plot(K, distortions, 'bx-')\n",
    "plt.xlabel('K')\n",
    "plt.ylabel('Distortion')\n",
    "plt.show()"
   ]
  },
  {
   "cell_type": "markdown",
   "id": "13a62e9b-a7a5-42db-a889-aa3556c7a129",
   "metadata": {},
   "source": [
    "Elbow method for optimal K, means we are looking for the best amount clusters. This indicates the we should try 3,4 or5 might be best suede for or model.                                                                                                                                           "
   ]
  },
  {
   "cell_type": "markdown",
   "id": "8dabe380-1741-4bd6-8de8-573fde026644",
   "metadata": {},
   "source": [
    "####  Train KMeans Model with Optimal K"
   ]
  },
  {
   "cell_type": "code",
   "execution_count": null,
   "id": "5234b962-98a3-47c4-b702-83f3b37c8852",
   "metadata": {},
   "outputs": [],
   "source": [
    "# Choose number of clusters\n",
    "n_clusters =3\n",
    "model2 = KMeans(n_clusters=n_clusters, random_state=42)"
   ]
  },
  {
   "cell_type": "markdown",
   "id": "3da4117b-2ba7-4f7d-abd6-8d56feaddf8b",
   "metadata": {},
   "source": [
    "#### Evaluate Clustering with Silhouette Score\n"
   ]
  },
  {
   "cell_type": "code",
   "execution_count": null,
   "id": "35d5e055-42a9-40e3-92c2-072011825ce1",
   "metadata": {},
   "outputs": [],
   "source": [
    "visualizer = SilhouetteVisualizer(model2, colors='yellowbrick')\n",
    "visualizer.fit(X)\n",
    "visualizer.show()\n",
    "#visualizer.show(outpath='Images/silhouette_plot.png', clear_figure=True) ## used for storing the image"
   ]
  },
  {
   "cell_type": "markdown",
   "id": "12641d6c-f637-4eff-aae0-83b4ed320f09",
   "metadata": {},
   "source": [
    "We tried with, 3,4,5 clusters, but found 3 to be best for our model. When we used 4 and 5 we had many line below zero indacating that some cluser are assigned in the wrong cluster."
   ]
  },
  {
   "cell_type": "markdown",
   "id": "14715815-5e97-427d-a1e3-bc5cd3bb3a77",
   "metadata": {},
   "source": [
    "####  Clean the Original Dataset\n",
    "Drop unnecessary columns from the original dataset to focus on relevant information."
   ]
  },
  {
   "cell_type": "code",
   "execution_count": null,
   "id": "baa08872-a432-4053-97f0-6b2ea7a24aea",
   "metadata": {},
   "outputs": [],
   "source": [
    "# List of columns to drop\n",
    "to_drop = [\n",
    "    'final_draw_position',\n",
    "    'final_televote_points',\n",
    "    'final_jury_points',\n",
    "    'final_televote_votes',\n",
    "    'final_jury_votes',\n",
    "    'final_place'\n",
    "]\n",
    "\n",
    "# Drop them from df in‑place\n",
    "df.drop(columns=to_drop, inplace=True)\n",
    "\n",
    "# Now df only has the 5 columns you need\n",
    "print(df.head())\n"
   ]
  },
  {
   "cell_type": "markdown",
   "id": "c937c1a6-b010-404b-86d4-042d223e8523",
   "metadata": {},
   "source": [
    "####  Assign Cluster Labels to Original Data\n",
    "Fit the model and assign each record to a cluster. Store the cluster labels in the dataframe."
   ]
  },
  {
   "cell_type": "code",
   "execution_count": null,
   "id": "8350261c-731e-41dd-96e9-9412bdbd9bdb",
   "metadata": {},
   "outputs": [],
   "source": [
    "# 1. Fit the model and get cluster assignments\n",
    "clusters = model2.fit_predict(X)\n",
    "# 2. Save them into your original df\n",
    "df['Cluster'] = clusters\n",
    "# 3. Now you can inspect the Cluster column:\n",
    "df.head()"
   ]
  },
  {
   "cell_type": "code",
   "execution_count": null,
   "id": "a7d6638e-8431-47bf-bd5e-b1a8deb6fbf9",
   "metadata": {},
   "outputs": [],
   "source": [
    "print(df.std(numeric_only=True))"
   ]
  },
  {
   "cell_type": "code",
   "execution_count": null,
   "id": "7233ea75-a2e0-4f98-a49e-44c88dc53524",
   "metadata": {},
   "outputs": [],
   "source": [
    "\n",
    "plt.hist(df['final_total_points'], bins=30, edgecolor='black')\n",
    "plt.title('Distribution of Final Total Points')\n",
    "plt.xlabel('Final Total Points')\n",
    "plt.ylabel('Frequency')\n",
    "plt.grid(True)\n",
    "plt.show()"
   ]
  },
  {
   "cell_type": "markdown",
   "id": "83c2edc3-948a-4730-814c-31b4f42671bd",
   "metadata": {},
   "source": [
    "#### View Unique Cluster Labels"
   ]
  },
  {
   "cell_type": "code",
   "execution_count": null,
   "id": "800bd76a-7c48-4fc6-9c99-95831c3de46d",
   "metadata": {},
   "outputs": [],
   "source": [
    "unique_clusters = df['Cluster'].unique()\n",
    "print(\"Cluster labels:\", unique_clusters)"
   ]
  },
  {
   "cell_type": "markdown",
   "id": "fd999156-455a-492b-a1c2-edd6134873f5",
   "metadata": {},
   "source": [
    "#### Save the Clustered Data"
   ]
  },
  {
   "cell_type": "code",
   "execution_count": null,
   "id": "a7361173-a63c-4bfb-bb40-9ad95d9eee03",
   "metadata": {},
   "outputs": [],
   "source": [
    "df.to_csv('Data/finalists_clustered.csv', index=False)"
   ]
  }
 ],
 "metadata": {
  "kernelspec": {
   "display_name": "Python [conda env:base] *",
   "language": "python",
   "name": "conda-base-py"
  },
  "language_info": {
   "codemirror_mode": {
    "name": "ipython",
    "version": 3
   },
   "file_extension": ".py",
   "mimetype": "text/x-python",
   "name": "python",
   "nbconvert_exporter": "python",
   "pygments_lexer": "ipython3",
   "version": "3.12.7"
  }
 },
 "nbformat": 4,
 "nbformat_minor": 5
}
