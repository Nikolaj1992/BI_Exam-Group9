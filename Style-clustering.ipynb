{
 "cells": [
  {
   "cell_type": "code",
   "execution_count": null,
   "id": "b98ed218-2e8a-4c8b-af82-a4249f150fb1",
   "metadata": {},
   "outputs": [],
   "source": [
    "!pip install yellowbrick"
   ]
  },
  {
   "cell_type": "code",
   "execution_count": null,
   "id": "510a3392-6825-4f76-b137-0ca398249aa0",
   "metadata": {},
   "outputs": [],
   "source": [
    "!pip install pycountry"
   ]
  },
  {
   "cell_type": "code",
   "execution_count": null,
   "id": "99ce2ab5-0129-4bb2-86ac-415e2c198a01",
   "metadata": {},
   "outputs": [],
   "source": [
    "import pandas as pd\n",
    "import numpy as np\n",
    "from sklearn.preprocessing import StandardScaler\n",
    "from sklearn.cluster import KMeans\n",
    "from sklearn.decomposition import PCA\n",
    "from yellowbrick.cluster import SilhouetteVisualizer\n",
    "import matplotlib.pyplot as plt\n",
    "from scipy.spatial.distance import cdist"
   ]
  },
  {
   "cell_type": "code",
   "execution_count": null,
   "id": "a8256769-2482-4bdd-9890-0a5e6e0da456",
   "metadata": {},
   "outputs": [],
   "source": [
    "df = pd.read_csv('Data/finalists_cleaned.csv')"
   ]
  },
  {
   "cell_type": "code",
   "execution_count": null,
   "id": "1e279758-3f2b-46b8-8523-ba1220432765",
   "metadata": {},
   "outputs": [],
   "source": [
    "# Load and select relevant columns\n",
    "df_cluster = df[['year', 'country', 'style', 'final_total_points']].copy()"
   ]
  },
  {
   "cell_type": "code",
   "execution_count": null,
   "id": "8696fa37-534f-4d8f-aa9f-d119940a04d6",
   "metadata": {},
   "outputs": [],
   "source": [
    "# One-hot encode categorical variables\n",
    "df_cluster = pd.get_dummies(df_cluster, columns=['country', 'style'])"
   ]
  },
  {
   "cell_type": "code",
   "execution_count": null,
   "id": "5b9b85cb-6138-43dd-b249-9a7d0ddb4690",
   "metadata": {},
   "outputs": [],
   "source": [
    "df_cluster.describe"
   ]
  },
  {
   "cell_type": "code",
   "execution_count": null,
   "id": "37c50371-4304-4fbf-be5e-e5d49e57be11",
   "metadata": {},
   "outputs": [],
   "source": [
    "# Scale the data\n",
    "scaler = StandardScaler()\n",
    "X_scaled = scaler.fit_transform(df_cluster)"
   ]
  },
  {
   "cell_type": "code",
   "execution_count": null,
   "id": "65b2f211-feac-40d4-8c73-c55fa44b34a7",
   "metadata": {},
   "outputs": [],
   "source": [
    "pca = PCA(n_components=2)\n",
    "X = pca.fit_transform(X_scaled)  # assuming your features are scaled\n"
   ]
  },
  {
   "cell_type": "code",
   "execution_count": null,
   "id": "d6fb45fc-f4dc-4e01-847f-bc9be8bc77e1",
   "metadata": {},
   "outputs": [],
   "source": [
    "from scipy.spatial.distance import cdist\n",
    "\n",
    "distortions = []\n",
    "K = range(2, 10)\n",
    "\n",
    "for k in K:\n",
    "    model = KMeans(n_clusters=k, n_init=10, random_state=42)\n",
    "    model.fit(X)\n",
    "    # Calculate average minimum distance to cluster centers\n",
    "    dist = sum(np.min(cdist(X, model.cluster_centers_, 'euclidean'), axis=1)) / X.shape[0]\n",
    "    distortions.append(dist)\n",
    "\n",
    "print(\"Distortion values:\", distortions)\n",
    "\n"
   ]
  },
  {
   "cell_type": "code",
   "execution_count": null,
   "id": "f1f02617-255c-4a9a-91fe-25d8a8ab7022",
   "metadata": {},
   "outputs": [],
   "source": [
    "plt.title('Elbow Method for Optimal K')\n",
    "plt.plot(K, distortions, 'bx-')\n",
    "plt.xlabel('K')\n",
    "plt.ylabel('Distortion')\n",
    "plt.show()"
   ]
  },
  {
   "cell_type": "code",
   "execution_count": null,
   "id": "5234b962-98a3-47c4-b702-83f3b37c8852",
   "metadata": {},
   "outputs": [],
   "source": [
    "# Choose number of clusters\n",
    "n_clusters = 3\n",
    "model2 = KMeans(n_clusters=n_clusters, random_state=42)"
   ]
  },
  {
   "cell_type": "code",
   "execution_count": null,
   "id": "35d5e055-42a9-40e3-92c2-072011825ce1",
   "metadata": {},
   "outputs": [],
   "source": [
    "visualizer = SilhouetteVisualizer(model2, colors='yellowbrick')\n",
    "visualizer.fit(X)\n",
    "visualizer.show()"
   ]
  },
  {
   "cell_type": "code",
   "execution_count": null,
   "id": "baa08872-a432-4053-97f0-6b2ea7a24aea",
   "metadata": {},
   "outputs": [],
   "source": [
    "# List of columns to drop\n",
    "to_drop = [\n",
    "    'final_draw_position',\n",
    "    'final_televote_points',\n",
    "    'final_jury_points',\n",
    "    'final_televote_votes',\n",
    "    'final_jury_votes',\n",
    "    'final_place'\n",
    "]\n",
    "\n",
    "# Drop them from df in‑place\n",
    "df.drop(columns=to_drop, inplace=True)\n",
    "\n",
    "# Now df only has the 5 columns you need\n",
    "print(df.head())\n"
   ]
  },
  {
   "cell_type": "code",
   "execution_count": null,
   "id": "8350261c-731e-41dd-96e9-9412bdbd9bdb",
   "metadata": {},
   "outputs": [],
   "source": [
    "# 1. Fit the model and get cluster assignments\n",
    "model2 = KMeans(n_clusters=n_clusters, random_state=42)\n",
    "clusters = model2.fit_predict(X)\n",
    "\n",
    "# 2. Save them into your original df\n",
    "df['Cluster'] = clusters\n",
    "\n",
    "# 3. Now you can inspect the Cluster column:\n",
    "df.head()\n",
    "\n"
   ]
  },
  {
   "cell_type": "code",
   "execution_count": null,
   "id": "800bd76a-7c48-4fc6-9c99-95831c3de46d",
   "metadata": {},
   "outputs": [],
   "source": [
    "unique_clusters = df['Cluster'].unique()\n",
    "print(\"Cluster labels:\", unique_clusters)"
   ]
  },
  {
   "cell_type": "code",
   "execution_count": null,
   "id": "a7361173-a63c-4bfb-bb40-9ad95d9eee03",
   "metadata": {},
   "outputs": [],
   "source": [
    "df.to_csv('Data/finalists_clustered.csv', index=False)"
   ]
  },
  {
   "cell_type": "code",
   "execution_count": null,
   "id": "4d6791c8-00eb-4a7f-ac1f-7cf25b7245f2",
   "metadata": {},
   "outputs": [],
   "source": []
  },
  {
   "cell_type": "code",
   "execution_count": null,
   "id": "593e4c07-ad57-4df3-a2d1-162c19cd5f47",
   "metadata": {},
   "outputs": [],
   "source": []
  }
 ],
 "metadata": {
  "kernelspec": {
   "display_name": "Python [conda env:base] *",
   "language": "python",
   "name": "conda-base-py"
  },
  "language_info": {
   "codemirror_mode": {
    "name": "ipython",
    "version": 3
   },
   "file_extension": ".py",
   "mimetype": "text/x-python",
   "name": "python",
   "nbconvert_exporter": "python",
   "pygments_lexer": "ipython3",
   "version": "3.12.7"
  }
 },
 "nbformat": 4,
 "nbformat_minor": 5
}
