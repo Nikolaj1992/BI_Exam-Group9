{
 "cells": [
  {
   "cell_type": "markdown",
   "id": "494cb753-6f2d-4922-9eea-a71d5df0d7e3",
   "metadata": {},
   "source": [
    "## Eurovision Song Contest"
   ]
  },
  {
   "cell_type": "code",
   "execution_count": null,
   "id": "947901a5-05ec-40e2-85d9-5a267ca34d5d",
   "metadata": {},
   "outputs": [],
   "source": [
    "import pandas as pd, numpy as np, seaborn as sbn, matplotlib.pyplot as plt\n",
    "\n",
    "from Modules import utils as utl\n",
    "from Modules import data_exploration as de"
   ]
  },
  {
   "cell_type": "code",
   "execution_count": null,
   "id": "5e1581c7-e2a4-48e1-a7b2-dbc1a4ed20bb",
   "metadata": {},
   "outputs": [],
   "source": [
    "from sklearn.model_selection import train_test_split\n",
    "from sklearn import linear_model\n",
    "from sklearn.linear_model import LinearRegression\n",
    "import sklearn.metrics as sm"
   ]
  },
  {
   "cell_type": "code",
   "execution_count": null,
   "id": "1d8ce135-1b13-486e-b1e5-5e03dc7b4355",
   "metadata": {},
   "outputs": [],
   "source": [
    "import pickle"
   ]
  },
  {
   "cell_type": "markdown",
   "id": "040c2ea9-a1c4-44ef-a730-cab600f195a5",
   "metadata": {},
   "source": [
    "### Data Loading"
   ]
  },
  {
   "cell_type": "code",
   "execution_count": null,
   "id": "0fe7a1ec-a350-4961-b5d5-f912ce3f8873",
   "metadata": {},
   "outputs": [],
   "source": [
    "csv_file_path = 'Data/song_data.csv'\n",
    "songs_df = utl.load_csv(csv_file_path, skiprows=0, encoding='windows-1252')"
   ]
  },
  {
   "cell_type": "code",
   "execution_count": null,
   "id": "0176fff4-fb33-4718-8b29-2a39aa323098",
   "metadata": {},
   "outputs": [],
   "source": [
    "songs_df"
   ]
  },
  {
   "cell_type": "code",
   "execution_count": null,
   "id": "b3d8ba3e-fe05-470c-bcdc-0a8e193db1e5",
   "metadata": {},
   "outputs": [],
   "source": []
  }
 ],
 "metadata": {
  "kernelspec": {
   "display_name": "Python [conda env:base] *",
   "language": "python",
   "name": "conda-base-py"
  },
  "language_info": {
   "codemirror_mode": {
    "name": "ipython",
    "version": 3
   },
   "file_extension": ".py",
   "mimetype": "text/x-python",
   "name": "python",
   "nbconvert_exporter": "python",
   "pygments_lexer": "ipython3",
   "version": "3.12.7"
  }
 },
 "nbformat": 4,
 "nbformat_minor": 5
}
