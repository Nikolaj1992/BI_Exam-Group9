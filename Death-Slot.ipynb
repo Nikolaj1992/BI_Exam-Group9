{
 "cells": [
  {
   "cell_type": "markdown",
   "id": "23a15734-8ef7-4a70-b8dc-6e3a245eb6ff",
   "metadata": {},
   "source": [
    "## Death-Slot analysis - 2nd draw position Semi/Finals"
   ]
  },
  {
   "cell_type": "code",
   "execution_count": 1,
   "id": "83a0ca45-4f70-4520-9839-fd9f02badee8",
   "metadata": {},
   "outputs": [],
   "source": [
    "import pandas as pd, numpy as np, seaborn as sbn, matplotlib.pyplot as plt\n",
    "\n",
    "from Modules import utils as utl\n",
    "from Modules import data_exploration as de\n",
    "from Modules import machine_learning as ml"
   ]
  },
  {
   "cell_type": "code",
   "execution_count": 2,
   "id": "ec588ca0-5449-4765-a6a5-c8189a4dbe35",
   "metadata": {},
   "outputs": [],
   "source": [
    "from sklearn.model_selection import train_test_split\n",
    "from sklearn import linear_model\n",
    "from sklearn.linear_model import LinearRegression\n",
    "import sklearn.metrics as sm"
   ]
  },
  {
   "cell_type": "code",
   "execution_count": 35,
   "id": "add74aac-1516-436a-885a-192c4f1dbaaf",
   "metadata": {},
   "outputs": [],
   "source": [
    "from scipy.stats import zscore\n",
    "from scipy.stats import ttest_ind"
   ]
  },
  {
   "cell_type": "markdown",
   "id": "f46eeab5-8ea6-4be6-bd5a-ef64def148a2",
   "metadata": {},
   "source": [
    "#### Load both cleaned CSV files and verify/ensure numeric draw positions"
   ]
  },
  {
   "cell_type": "code",
   "execution_count": 5,
   "id": "be8d8651-7c5d-475d-b2c7-62f17edb27eb",
   "metadata": {},
   "outputs": [],
   "source": [
    "csv_finals_path = 'Data/finalists_cleaned.csv'\n",
    "csv_semis_path = 'Data/semifinalists_cleaned.csv'"
   ]
  },
  {
   "cell_type": "code",
   "execution_count": 7,
   "id": "1bba4815-d3cb-4f56-8eac-72d150389f6f",
   "metadata": {},
   "outputs": [],
   "source": [
    "finals_df = utl.load_csv(csv_finals_path, skiprows=0, encoding='windows-1252')\n",
    "semis_df = utl.load_csv(csv_semis_path, skiprows=0, encoding='windows-1252')"
   ]
  },
  {
   "cell_type": "code",
   "execution_count": 9,
   "id": "76554b60-a15d-4675-94fb-b4dc9dd068c6",
   "metadata": {},
   "outputs": [
    {
     "data": {
      "text/plain": [
       "year                       0\n",
       "final_draw_position        0\n",
       "country                    0\n",
       "style                      0\n",
       "final_televote_points     32\n",
       "final_jury_points         32\n",
       "final_televote_votes     128\n",
       "final_jury_votes         128\n",
       "final_place                0\n",
       "final_total_points         0\n",
       "dtype: int64"
      ]
     },
     "execution_count": 9,
     "metadata": {},
     "output_type": "execute_result"
    }
   ],
   "source": [
    "finals_df.isna().sum()"
   ]
  },
  {
   "cell_type": "code",
   "execution_count": 11,
   "id": "9c0ac98e-ebd9-4d16-8ec4-cb52278ce88d",
   "metadata": {},
   "outputs": [
    {
     "data": {
      "text/plain": [
       "year                      0\n",
       "semi_final                0\n",
       "semi_draw_position        0\n",
       "country                   0\n",
       "style                     0\n",
       "semi_place                0\n",
       "semi_televote_points    240\n",
       "semi_jury_points        271\n",
       "semi_total_points         0\n",
       "dtype: int64"
      ]
     },
     "execution_count": 11,
     "metadata": {},
     "output_type": "execute_result"
    }
   ],
   "source": [
    "semis_df.isna().sum()"
   ]
  },
  {
   "cell_type": "code",
   "execution_count": 13,
   "id": "92036415-f5ab-470a-b6c5-d0270f872f10",
   "metadata": {},
   "outputs": [
    {
     "name": "stdout",
     "output_type": "stream",
     "text": [
      "<class 'pandas.core.frame.DataFrame'>\n",
      "RangeIndex: 358 entries, 0 to 357\n",
      "Data columns (total 10 columns):\n",
      " #   Column                 Non-Null Count  Dtype  \n",
      "---  ------                 --------------  -----  \n",
      " 0   year                   358 non-null    int64  \n",
      " 1   final_draw_position    358 non-null    int64  \n",
      " 2   country                358 non-null    object \n",
      " 3   style                  358 non-null    object \n",
      " 4   final_televote_points  326 non-null    float64\n",
      " 5   final_jury_points      326 non-null    float64\n",
      " 6   final_televote_votes   230 non-null    float64\n",
      " 7   final_jury_votes       230 non-null    float64\n",
      " 8   final_place            358 non-null    float64\n",
      " 9   final_total_points     358 non-null    float64\n",
      "dtypes: float64(6), int64(2), object(2)\n",
      "memory usage: 28.1+ KB\n"
     ]
    }
   ],
   "source": [
    "finals_df.info()"
   ]
  },
  {
   "cell_type": "code",
   "execution_count": 15,
   "id": "1aec0fdd-713d-44aa-88ed-1b40083421d1",
   "metadata": {},
   "outputs": [
    {
     "name": "stdout",
     "output_type": "stream",
     "text": [
      "<class 'pandas.core.frame.DataFrame'>\n",
      "RangeIndex: 483 entries, 0 to 482\n",
      "Data columns (total 9 columns):\n",
      " #   Column                Non-Null Count  Dtype  \n",
      "---  ------                --------------  -----  \n",
      " 0   year                  483 non-null    int64  \n",
      " 1   semi_final            483 non-null    int64  \n",
      " 2   semi_draw_position    483 non-null    int64  \n",
      " 3   country               483 non-null    object \n",
      " 4   style                 483 non-null    object \n",
      " 5   semi_place            483 non-null    float64\n",
      " 6   semi_televote_points  243 non-null    float64\n",
      " 7   semi_jury_points      212 non-null    float64\n",
      " 8   semi_total_points     483 non-null    float64\n",
      "dtypes: float64(4), int64(3), object(2)\n",
      "memory usage: 34.1+ KB\n"
     ]
    }
   ],
   "source": [
    "semis_df.info()"
   ]
  },
  {
   "cell_type": "markdown",
   "id": "c65f6705-453c-4772-b622-1836ccba929f",
   "metadata": {},
   "source": [
    "#### EDA (Exploratory Data Analysis) - Does position 2 stand out? (We'll start with the finals)"
   ]
  },
  {
   "cell_type": "code",
   "execution_count": 17,
   "id": "41a1b6e9-13cd-4da3-a20c-dd4a62c564d3",
   "metadata": {},
   "outputs": [],
   "source": [
    "draw_position_stats_finals = finals_df.groupby('final_draw_position')['final_place'].agg(['count', 'mean', 'median', 'std']).sort_index()"
   ]
  },
  {
   "cell_type": "code",
   "execution_count": 19,
   "id": "f70acfed-15e1-4d23-97c4-072140436b89",
   "metadata": {},
   "outputs": [
    {
     "data": {
      "text/plain": [
       "count     14.000000\n",
       "mean      19.500000\n",
       "median    21.500000\n",
       "std        5.229355\n",
       "Name: 2, dtype: float64"
      ]
     },
     "execution_count": 19,
     "metadata": {},
     "output_type": "execute_result"
    }
   ],
   "source": [
    "draw_position_stats_finals.loc[2]"
   ]
  },
  {
   "cell_type": "code",
   "execution_count": 23,
   "id": "5fe11f3a-9a40-4109-95c4-27194b6021d2",
   "metadata": {},
   "outputs": [
    {
     "data": {
      "image/png": "[encoded data removed]",
      "text/plain": [
       "<Figure size 600x400 with 1 Axes>"
      ]
     },
     "metadata": {},
     "output_type": "display_data"
    }
   ],
   "source": [
    "de.vs.boxplot(data=finals_df, x='final_draw_position', y='final_place', title='Final Place by Draw Position', \n",
    "              xlabel='Final Draw Position', ylabel='Final Place (Lower is Better)')"
   ]
  },
  {
   "cell_type": "code",
   "execution_count": 25,
   "id": "f2537b5c-03bc-413c-a2ed-5ce91a96cd80",
   "metadata": {},
   "outputs": [
    {
     "data": {
      "image/png": "[encoded data removed]",
      "text/plain": [
       "<Figure size 640x480 with 1 Axes>"
      ]
     },
     "metadata": {},
     "output_type": "display_data"
    }
   ],
   "source": [
    "de.vs.barplot(finals_df, x_col='final_draw_position', y_col='final_place', agg_func='mean', \n",
    "              title='Average Final Place per Draw Position', \n",
    "              xlabel='Draw Position', ylabel='Average Final Place')"
   ]
  },
  {
   "cell_type": "markdown",
   "id": "5a64aba0-d535-4b69-9ecb-ed768c8dd65e",
   "metadata": {},
   "source": [
    "##### Important note: A year had 27 finalists, we will ignore the 27th draw position as not enough data exists to correctly analyse this."
   ]
  },
  {
   "cell_type": "markdown",
   "id": "f512f439-dc7d-4cce-b0e2-aa8848d11c46",
   "metadata": {},
   "source": [
    "##### From our draw position stats and our boxplot and barplot we now see the following:\n",
    "- From 2009 to 2023 we correctly found 14 entries that performed in the 2nd draw position in the Eurovision finals.\n",
    "- On average these entries placed 19.5 (mean), so around the 19th or 20th place, at the finals - which is not great.\n",
    "- The median at 21.5, the middle-ranked entry after sorting, placed 21.5th - which, given that it's worse than the mean, suggests that entries performing at the 2nd draw position skew towards bad results.\n",
    "- The STD (standard deviation) at 5.229 explains that most entries place within ±5 places of the mean (so roughly between 14th and 25th place)\n",
    "\n",
    "The boxplot shows that the interquartile range (middle 50% of data) goes from roughly 16th to 23rd place. The median is correctly placed at 21.5 The whiskers are fairly narrow suggesting the data, outliers excluded, has limited range. And we have only 1 outlier at the 6th place, which is the best performance an entry at the 2nd draw position has achieved in the 2009-2023 timespan.\n",
    "The box for 2nd position itself is the second smallest one suggesting low variability in performance, while also being the most upward box - so far confirming our hypothesis that the Death-Slot is a real thing. Other draw positions have similarly high medians, with greater variability but none quite as profound as the 2nd draw position.\n",
    "\n",
    "The barplot shows us the overall performance of each draw position, and it's clear that 2nd position has had the worst (mean/average) performance with a fairly low standard error. At the same time we see that draw positions 11 and 20 appear to be the, on average, best performing draw positions. "
   ]
  },
  {
   "cell_type": "markdown",
   "id": "64ce3653-0c42-41ee-bbd3-d91faf2aa650",
   "metadata": {},
   "source": [
    "#### Attempt at testing our hypothesis and use z-scores to see if position 2 is itself an outlier in performance"
   ]
  },
  {
   "cell_type": "code",
   "execution_count": 37,
   "id": "46d5e97a-8bf9-44ed-bfe1-6fca92868f6b",
   "metadata": {},
   "outputs": [],
   "source": [
    "draw_position_means_finals = draw_position_stats_finals['mean']\n",
    "z_scores_finals = zscore(draw_position_means_finals)\n",
    "position_2_z_finals = z_scores_finals[draw_position_stats_finals.index == 2]"
   ]
  },
  {
   "cell_type": "code",
   "execution_count": 43,
   "id": "0290bdfe-d2f0-494f-8c6b-b50a09515ac2",
   "metadata": {},
   "outputs": [
    {
     "data": {
      "text/plain": [
       "final_draw_position\n",
       "1     1.104056\n",
       "2     1.944908\n",
       "3     0.090722\n",
       "4     1.470581\n",
       "5     0.996255\n",
       "6    -0.146442\n",
       "7    -0.534527\n",
       "8     0.414126\n",
       "9    -0.362045\n",
       "10    0.371006\n",
       "11   -1.396939\n",
       "12   -0.394385\n",
       "13   -0.318924\n",
       "14    0.543488\n",
       "15    0.457247\n",
       "16    0.802212\n",
       "17    0.608169\n",
       "18   -0.124881\n",
       "19   -0.512967\n",
       "20   -1.547861\n",
       "21    0.715971\n",
       "22   -0.232683\n",
       "23   -0.512967\n",
       "24   -0.944173\n",
       "25   -0.275803\n",
       "26    0.821377\n",
       "27   -3.035523\n",
       "Name: mean, dtype: float64"
      ]
     },
     "execution_count": 43,
     "metadata": {},
     "output_type": "execute_result"
    }
   ],
   "source": [
    "z_scores_finals"
   ]
  },
  {
   "cell_type": "markdown",
   "id": "35e21a1a-7ade-445d-8c43-6e87032812bb",
   "metadata": {},
   "source": [
    "##### Computing z-scores of the mean final place for each draw position to see if 2 is \"extreme\"/stands out.\n",
    "With 2nd draw position having a z-score of 1.944 it means that the average final place of entries starting at position 2 are nearly 2 standrad deviations worse than the overall average of all positions.\n",
    "With 1.96 typically being enough to be considered statistically \"extreme\", we are very close. So while we can't say that 2nd draw position is an outlier by itself, it is clear that we have a strong indicator that Position 2 has one of the worst average placements. No other draw positions has a high or low a z-score as position 2 (ignoring 27)."
   ]
  },
  {
   "cell_type": "code",
   "execution_count": 39,
   "id": "b25aa35d-b0be-4575-8249-1f23822d9332",
   "metadata": {},
   "outputs": [],
   "source": [
    "position_2_finals = finals_df[finals_df['final_draw_position'] == 2]['final_place']\n",
    "other_positions_finals = finals_df[finals_df['final_draw_position'] != 2]['final_place']"
   ]
  },
  {
   "cell_type": "code",
   "execution_count": 41,
   "id": "33178d25-4e77-4f48-967f-7f8938ee5146",
   "metadata": {},
   "outputs": [
    {
     "name": "stdout",
     "output_type": "stream",
     "text": [
      "T-statistic: 4.373910959104701, p-value: 0.0005284538015036808\n"
     ]
    }
   ],
   "source": [
    "t_stat, p_val = ttest_ind(position_2_finals, other_positions_finals, equal_var=False)\n",
    "print(f\"T-statistic: {t_stat}, p-value: {p_val}\")"
   ]
  },
  {
   "cell_type": "markdown",
   "id": "01a8be29-c22c-42e1-a789-afec9e6e468c",
   "metadata": {},
   "source": [
    "##### T-Test of position 2 against all others\n",
    "Using Welch's t-test, comparing position 2 versus all other draw positions, we get a p-value of just 0.0005 and a t-statistic of 4.373. \n",
    "The t-statistic indicates that the difference between the mean final placements of these two groups is approx. 4.4 standard errors apart, which is strong evidence of a meaningful difference. \n",
    "Our result when comparing position 2 to all other positions combined, is that we observe significantly worse average placement for postion 2. This must be taken with a slight grain of salt however as we are comparing entries at position 2 with entries from all other positions - creating an imbalance as we do know other draw positions have similar, if not as profound, disadvantages. However, this score is still significant enough that even compared against a field of positions, that we can say it is a worse draw position.\n",
    "\n",
    "The p-value is very low. Our hypothesis being that starting at 2nd draw position aka the Death-Slot is signifanctly worse than any other draw position, this means our null hypothesis is that there is no difference. If the p-value is smaller than 0.05 that's ordinarily enough to reject the null hypothesis. Ours is much lower at just 0.0005, meaning that it is highly unlikely that entries starting at the 2nd draw position have performed badly by mere chance alone - strongly suggesting that the 2nd position does in fact performe statistically worse. "
   ]
  },
  {
   "cell_type": "code",
   "execution_count": null,
   "id": "b8d46e79-e7a4-4fe0-a8bf-e851e04a8aed",
   "metadata": {},
   "outputs": [],
   "source": []
  }
 ],
 "metadata": {
  "kernelspec": {
   "display_name": "Python [conda env:base] *",
   "language": "python",
   "name": "conda-base-py"
  },
  "language_info": {
   "codemirror_mode": {
    "name": "ipython",
    "version": 3
   },
   "file_extension": ".py",
   "mimetype": "text/x-python",
   "name": "python",
   "nbconvert_exporter": "python",
   "pygments_lexer": "ipython3",
   "version": "3.12.7"
  }
 },
 "nbformat": 4,
 "nbformat_minor": 5
}
