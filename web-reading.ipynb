{
 "cells": [
  {
   "cell_type": "code",
   "execution_count": null,
   "id": "40957204-781e-4320-8ff5-78a8ec3de700",
   "metadata": {},
   "outputs": [],
   "source": [
    "!pip install -r requirements.txt"
   ]
  },
  {
   "cell_type": "code",
   "execution_count": null,
   "id": "b7c2011b-9456-48ec-853a-02c1f46887ea",
   "metadata": {},
   "outputs": [],
   "source": [
    "!conda install poppler -y"
   ]
  },
  {
   "cell_type": "code",
   "execution_count": null,
   "id": "00bf31f6-fa76-405c-9241-2188d49ebef6",
   "metadata": {},
   "outputs": [],
   "source": [
    "!conda install tesseract -y"
   ]
  },
  {
   "cell_type": "code",
   "execution_count": null,
   "id": "de3a6877-60f7-46f2-abca-13736ba7efdc",
   "metadata": {},
   "outputs": [],
   "source": [
    "!pip install unstructured"
   ]
  },
  {
   "cell_type": "code",
   "execution_count": null,
   "id": "189081c8-86d7-44da-a5dd-1f20221085ce",
   "metadata": {},
   "outputs": [],
   "source": [
    "# for loading and parcing web pages\n",
    "from langchain_community.document_loaders import SeleniumURLLoader"
   ]
  },
  {
   "cell_type": "code",
   "execution_count": null,
   "id": "a0c69b46-284c-45ad-9564-673aa1f1ed5e",
   "metadata": {},
   "outputs": [],
   "source": [
    "# for reading and parcing multimodal pdf\n",
    "from unstructured.partition.pdf import partition_pdf\n",
    "from unstructured.partition.utils.constants import PartitionStrategy"
   ]
  },
  {
   "cell_type": "code",
   "execution_count": null,
   "id": "71cd42b8-7944-4554-9a57-60ee657dbbe7",
   "metadata": {},
   "outputs": [],
   "source": [
    "# for help of open-source LLMs\n",
    "from langchain_ollama import OllamaEmbeddings\n",
    "from langchain_ollama.llms import OllamaLLM\n",
    "from langchain_core.prompts import ChatPromptTemplate"
   ]
  },
  {
   "cell_type": "code",
   "execution_count": null,
   "id": "ff84bed7-b481-4be0-ac04-27151e8726c1",
   "metadata": {},
   "outputs": [],
   "source": [
    "# for text pre-processing\n",
    "from langchain_text_splitters import RecursiveCharacterTextSplitter\n",
    "from langchain_core.vectorstores import InMemoryVectorStore"
   ]
  },
  {
   "cell_type": "code",
   "execution_count": null,
   "id": "1839ab48-16a3-4f1b-a977-3a028a60579f",
   "metadata": {},
   "outputs": [],
   "source": [
    "import streamlit as st"
   ]
  },
  {
   "cell_type": "code",
   "execution_count": null,
   "id": "b46a71dd-dcca-4c6b-b021-448405525be7",
   "metadata": {},
   "outputs": [],
   "source": [
    " !ollama pull gemma3:12b"
   ]
  },
  {
   "cell_type": "code",
   "execution_count": null,
   "id": "01fdbd23-7851-40a7-b959-29d5e3fc41c9",
   "metadata": {},
   "outputs": [],
   "source": [
    "!ollama pull llama3.2:3b"
   ]
  },
  {
   "cell_type": "code",
   "execution_count": null,
   "id": "3261db80-453e-4691-a676-23ad25472164",
   "metadata": {},
   "outputs": [],
   "source": [
    "llm = OllamaLLM(model = \"gemma3:12b\")"
   ]
  },
  {
   "cell_type": "code",
   "execution_count": null,
   "id": "467c693b-f59b-4217-9966-961f51caec80",
   "metadata": {},
   "outputs": [],
   "source": [
    "embeddings = OllamaEmbeddings(model=\"llama3.2:3b\")\n",
    "vector_store = InMemoryVectorStore(embeddings)"
   ]
  },
  {
   "cell_type": "code",
   "execution_count": null,
   "id": "049d5546-d6aa-4d6a-b4fb-f87de7a87df0",
   "metadata": {},
   "outputs": [],
   "source": [
    "# load page\n",
    "def load_web_page(url):\n",
    "    loader = SeleniumURLLoader(urls=[url])\n",
    "    documents = loader.load()\n",
    "    return documents"
   ]
  },
  {
   "cell_type": "code",
   "execution_count": null,
   "id": "80c60958-cecb-48e0-8c9b-e79187604478",
   "metadata": {},
   "outputs": [],
   "source": [
    "# parse the page text\n",
    "def split_web_text(docs):\n",
    "    text_splitter = RecursiveCharacterTextSplitter(\n",
    "        chunk_size=1000,\n",
    "        chunk_overlap=200,\n",
    "        add_start_index=True\n",
    "    )\n",
    "    data = text_splitter.split_documents(docs)\n",
    "    return data\n"
   ]
  },
  {
   "cell_type": "code",
   "execution_count": null,
   "id": "dd5be0ec-5822-465c-bbcd-f824518e3f41",
   "metadata": {},
   "outputs": [],
   "source": [
    "def store_web_docs(docs):\n",
    "    vector_store.add_documents(docs)\n",
    "    return"
   ]
  },
  {
   "cell_type": "code",
   "execution_count": null,
   "id": "f38312c0-59ff-40cf-9c84-7d7066f1fbe3",
   "metadata": {},
   "outputs": [],
   "source": [
    "def retrieve_docs(query):\n",
    "    return vector_store.similarity_search(query)"
   ]
  },
  {
   "cell_type": "code",
   "execution_count": null,
   "id": "ace29bc5-84da-4054-8db4-c760a54d9bd8",
   "metadata": {},
   "outputs": [],
   "source": [
    "def answer_question(question, documents):\n",
    "    context = \"\\n\\n\".join([doc.page_content for doc in documents])\n",
    "    prompt = ChatPromptTemplate.from_template(template)\n",
    "    chain = prompt | llm\n",
    "    return chain.invoke({\"question\": question, \"context\": context})"
   ]
  },
  {
   "cell_type": "code",
   "execution_count": null,
   "id": "2f76f93a-1e1a-4e66-9747-602189794715",
   "metadata": {},
   "outputs": [],
   "source": [
    "# A template for the dialoque\n",
    "template = \"\"\"\n",
    "You are an assistant for question-answering tasks. Use the following pieces of retrieved context to answer the question. If you don't know the answer, just say that you don't know. Use three sentences maximum and keep the answer concise.\n",
    "Question: {question} \n",
    "Context: {context} \n",
    "Answer:\n",
    "\"\"\""
   ]
  },
  {
   "cell_type": "code",
   "execution_count": null,
   "id": "99f8977d-ea08-47b5-a5fd-919d74ad2814",
   "metadata": {},
   "outputs": [],
   "source": [
    "url = 'https://escinsight.com/2023/04/06/deeper-look-eurovisions-running-order/'"
   ]
  },
  {
   "cell_type": "code",
   "execution_count": null,
   "id": "18489a29-80e3-42f6-a2cf-29c8821bc21b",
   "metadata": {},
   "outputs": [],
   "source": [
    "# read a web page\n",
    "doc = load_web_page(url)"
   ]
  },
  {
   "cell_type": "code",
   "execution_count": null,
   "id": "64898e88-ab4f-4b48-bf64-f9f0987c687a",
   "metadata": {},
   "outputs": [],
   "source": [
    "# split the text in chunks\n",
    "text = split_web_text(doc)"
   ]
  },
  {
   "cell_type": "code",
   "execution_count": null,
   "id": "b78b1725-cf74-44cd-be0e-a2386f3d3517",
   "metadata": {},
   "outputs": [],
   "source": [
    "# embed the chunks and store them in vector db\n",
    "store_web_docs(text)"
   ]
  },
  {
   "cell_type": "code",
   "execution_count": null,
   "id": "e0bc112b-e578-45e7-b475-455b2959c9a3",
   "metadata": {},
   "outputs": [],
   "source": [
    "question = 'what running order is the best?'"
   ]
  },
  {
   "cell_type": "code",
   "execution_count": null,
   "id": "254be918-70cd-45d9-ac10-a5ebe1118876",
   "metadata": {},
   "outputs": [],
   "source": [
    "# send the user's question to the vector db for retrieving relevant context\n",
    "retrieved = retrieve_docs(question)"
   ]
  },
  {
   "cell_type": "code",
   "execution_count": null,
   "id": "7c2b3441-e1d3-4846-b600-72cab391d63b",
   "metadata": {},
   "outputs": [],
   "source": [
    "retrieved"
   ]
  },
  {
   "cell_type": "code",
   "execution_count": null,
   "id": "8cdef3e2-0584-4436-ba62-63ef2c280dfa",
   "metadata": {},
   "outputs": [],
   "source": [
    "answer = answer_question(question, retrieved)"
   ]
  },
  {
   "cell_type": "code",
   "execution_count": null,
   "id": "17bceda9-a857-438c-b160-9a937c03d753",
   "metadata": {},
   "outputs": [],
   "source": [
    "answer"
   ]
  }
 ],
 "metadata": {
  "kernelspec": {
   "display_name": "Python [conda env:base] *",
   "language": "python",
   "name": "conda-base-py"
  },
  "language_info": {
   "codemirror_mode": {
    "name": "ipython",
    "version": 3
   },
   "file_extension": ".py",
   "mimetype": "text/x-python",
   "name": "python",
   "nbconvert_exporter": "python",
   "pygments_lexer": "ipython3",
   "version": "3.12.7"
  }
 },
 "nbformat": 4,
 "nbformat_minor": 5
}
