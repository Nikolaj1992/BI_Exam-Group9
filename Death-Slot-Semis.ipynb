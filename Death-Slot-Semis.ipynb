{
 "cells": [
  {
   "cell_type": "markdown",
   "id": "23a15734-8ef7-4a70-b8dc-6e3a245eb6ff",
   "metadata": {},
   "source": [
    "## Death-Slot analysis - draw positions semi-finals"
   ]
  },
  {
   "cell_type": "code",
   "execution_count": 1,
   "id": "83a0ca45-4f70-4520-9839-fd9f02badee8",
   "metadata": {},
   "outputs": [],
   "source": [
    "import pandas as pd, numpy as np, seaborn as sbn, matplotlib.pyplot as plt\n",
    "\n",
    "from Modules import utils as utl\n",
    "from Modules import data_exploration as de\n",
    "from Modules import machine_learning as ml"
   ]
  },
  {
   "cell_type": "code",
   "execution_count": 2,
   "id": "ec588ca0-5449-4765-a6a5-c8189a4dbe35",
   "metadata": {},
   "outputs": [],
   "source": [
    "from sklearn.model_selection import train_test_split\n",
    "from sklearn import linear_model\n",
    "from sklearn.linear_model import LinearRegression\n",
    "import sklearn.metrics as sm"
   ]
  },
  {
   "cell_type": "code",
   "execution_count": 3,
   "id": "add74aac-1516-436a-885a-192c4f1dbaaf",
   "metadata": {},
   "outputs": [],
   "source": [
    "from scipy.stats import zscore\n",
    "from scipy.stats import ttest_ind"
   ]
  },
  {
   "cell_type": "markdown",
   "id": "f46eeab5-8ea6-4be6-bd5a-ef64def148a2",
   "metadata": {},
   "source": [
    "#### Load cleaned CSV file and verify/ensure numeric draw positions"
   ]
  },
  {
   "cell_type": "code",
   "execution_count": 7,
   "id": "be8d8651-7c5d-475d-b2c7-62f17edb27eb",
   "metadata": {},
   "outputs": [],
   "source": [
    "csv_semis_path = 'Data/semifinalists_cleaned.csv'"
   ]
  },
  {
   "cell_type": "code",
   "execution_count": 9,
   "id": "1bba4815-d3cb-4f56-8eac-72d150389f6f",
   "metadata": {},
   "outputs": [],
   "source": [
    "semis_df = utl.load_csv(csv_semis_path, skiprows=0, encoding='windows-1252')"
   ]
  },
  {
   "cell_type": "code",
   "execution_count": 23,
   "id": "76554b60-a15d-4675-94fb-b4dc9dd068c6",
   "metadata": {},
   "outputs": [
    {
     "data": {
      "text/plain": [
       "year                      0\n",
       "semi_final                0\n",
       "semi_draw_position        0\n",
       "country                   0\n",
       "style                     0\n",
       "semi_place                0\n",
       "semi_televote_points    240\n",
       "semi_jury_points        271\n",
       "semi_total_points         0\n",
       "dtype: int64"
      ]
     },
     "execution_count": 23,
     "metadata": {},
     "output_type": "execute_result"
    }
   ],
   "source": [
    "# Identify null values. So long as we don't find any in semi_place, semi_draw_position or year, we can continue without further data cleaning\n",
    "semis_df.isna().sum()"
   ]
  },
  {
   "cell_type": "code",
   "execution_count": 13,
   "id": "92036415-f5ab-470a-b6c5-d0270f872f10",
   "metadata": {},
   "outputs": [
    {
     "name": "stdout",
     "output_type": "stream",
     "text": [
      "<class 'pandas.core.frame.DataFrame'>\n",
      "RangeIndex: 483 entries, 0 to 482\n",
      "Data columns (total 9 columns):\n",
      " #   Column                Non-Null Count  Dtype  \n",
      "---  ------                --------------  -----  \n",
      " 0   year                  483 non-null    int64  \n",
      " 1   semi_final            483 non-null    int64  \n",
      " 2   semi_draw_position    483 non-null    int64  \n",
      " 3   country               483 non-null    object \n",
      " 4   style                 483 non-null    object \n",
      " 5   semi_place            483 non-null    float64\n",
      " 6   semi_televote_points  243 non-null    float64\n",
      " 7   semi_jury_points      212 non-null    float64\n",
      " 8   semi_total_points     483 non-null    float64\n",
      "dtypes: float64(4), int64(3), object(2)\n",
      "memory usage: 34.1+ KB\n"
     ]
    }
   ],
   "source": [
    "# Quick check to see if the 3 features we need are in fact numeric\n",
    "semis_df.info()"
   ]
  },
  {
   "cell_type": "markdown",
   "id": "c65f6705-453c-4772-b622-1836ccba929f",
   "metadata": {},
   "source": [
    "#### EDA (Exploratory Data Analysis) - Does any position stand out?"
   ]
  },
  {
   "cell_type": "code",
   "execution_count": 25,
   "id": "41a1b6e9-13cd-4da3-a20c-dd4a62c564d3",
   "metadata": {},
   "outputs": [],
   "source": [
    "# Group draw position and semi place and calculate count, mean, median and standard variation for all draw positions\n",
    "draw_position_stats_semis = semis_df.groupby('semi_draw_position')['semi_place'].agg(['count', 'mean', 'median', 'std']).sort_index()"
   ]
  },
  {
   "cell_type": "code",
   "execution_count": 29,
   "id": "f70acfed-15e1-4d23-97c4-072140436b89",
   "metadata": {},
   "outputs": [
    {
     "data": {
      "text/html": [
       "<div>\n",
       "<style scoped>\n",
       "    .dataframe tbody tr th:only-of-type {\n",
       "        vertical-align: middle;\n",
       "    }\n",
       "\n",
       "    .dataframe tbody tr th {\n",
       "        vertical-align: top;\n",
       "    }\n",
       "\n",
       "    .dataframe thead th {\n",
       "        text-align: right;\n",
       "    }\n",
       "</style>\n",
       "<table border=\"1\" class=\"dataframe\">\n",
       "  <thead>\n",
       "    <tr style=\"text-align: right;\">\n",
       "      <th></th>\n",
       "      <th>count</th>\n",
       "      <th>mean</th>\n",
       "      <th>median</th>\n",
       "      <th>std</th>\n",
       "    </tr>\n",
       "    <tr>\n",
       "      <th>semi_draw_position</th>\n",
       "      <th></th>\n",
       "      <th></th>\n",
       "      <th></th>\n",
       "      <th></th>\n",
       "    </tr>\n",
       "  </thead>\n",
       "  <tbody>\n",
       "    <tr>\n",
       "      <th>1</th>\n",
       "      <td>26</td>\n",
       "      <td>9.769231</td>\n",
       "      <td>10.0</td>\n",
       "      <td>4.893324</td>\n",
       "    </tr>\n",
       "    <tr>\n",
       "      <th>2</th>\n",
       "      <td>28</td>\n",
       "      <td>11.714286</td>\n",
       "      <td>11.5</td>\n",
       "      <td>4.026368</td>\n",
       "    </tr>\n",
       "    <tr>\n",
       "      <th>3</th>\n",
       "      <td>28</td>\n",
       "      <td>11.892857</td>\n",
       "      <td>14.0</td>\n",
       "      <td>5.335689</td>\n",
       "    </tr>\n",
       "    <tr>\n",
       "      <th>4</th>\n",
       "      <td>28</td>\n",
       "      <td>10.071429</td>\n",
       "      <td>10.5</td>\n",
       "      <td>4.429937</td>\n",
       "    </tr>\n",
       "    <tr>\n",
       "      <th>5</th>\n",
       "      <td>28</td>\n",
       "      <td>10.000000</td>\n",
       "      <td>10.5</td>\n",
       "      <td>4.883836</td>\n",
       "    </tr>\n",
       "    <tr>\n",
       "      <th>6</th>\n",
       "      <td>28</td>\n",
       "      <td>8.392857</td>\n",
       "      <td>7.5</td>\n",
       "      <td>5.397800</td>\n",
       "    </tr>\n",
       "    <tr>\n",
       "      <th>7</th>\n",
       "      <td>28</td>\n",
       "      <td>9.000000</td>\n",
       "      <td>10.0</td>\n",
       "      <td>4.853407</td>\n",
       "    </tr>\n",
       "    <tr>\n",
       "      <th>8</th>\n",
       "      <td>28</td>\n",
       "      <td>8.821429</td>\n",
       "      <td>8.5</td>\n",
       "      <td>4.830870</td>\n",
       "    </tr>\n",
       "    <tr>\n",
       "      <th>9</th>\n",
       "      <td>28</td>\n",
       "      <td>8.178571</td>\n",
       "      <td>8.0</td>\n",
       "      <td>5.149999</td>\n",
       "    </tr>\n",
       "    <tr>\n",
       "      <th>10</th>\n",
       "      <td>28</td>\n",
       "      <td>9.500000</td>\n",
       "      <td>9.5</td>\n",
       "      <td>5.231670</td>\n",
       "    </tr>\n",
       "    <tr>\n",
       "      <th>11</th>\n",
       "      <td>28</td>\n",
       "      <td>11.214286</td>\n",
       "      <td>11.5</td>\n",
       "      <td>4.112827</td>\n",
       "    </tr>\n",
       "    <tr>\n",
       "      <th>12</th>\n",
       "      <td>28</td>\n",
       "      <td>8.214286</td>\n",
       "      <td>7.0</td>\n",
       "      <td>5.272972</td>\n",
       "    </tr>\n",
       "    <tr>\n",
       "      <th>13</th>\n",
       "      <td>28</td>\n",
       "      <td>8.428571</td>\n",
       "      <td>8.5</td>\n",
       "      <td>5.202767</td>\n",
       "    </tr>\n",
       "    <tr>\n",
       "      <th>14</th>\n",
       "      <td>28</td>\n",
       "      <td>8.321429</td>\n",
       "      <td>9.0</td>\n",
       "      <td>4.430982</td>\n",
       "    </tr>\n",
       "    <tr>\n",
       "      <th>15</th>\n",
       "      <td>28</td>\n",
       "      <td>8.357143</td>\n",
       "      <td>7.0</td>\n",
       "      <td>5.271968</td>\n",
       "    </tr>\n",
       "    <tr>\n",
       "      <th>16</th>\n",
       "      <td>26</td>\n",
       "      <td>8.615385</td>\n",
       "      <td>8.0</td>\n",
       "      <td>5.593403</td>\n",
       "    </tr>\n",
       "    <tr>\n",
       "      <th>17</th>\n",
       "      <td>21</td>\n",
       "      <td>8.000000</td>\n",
       "      <td>6.0</td>\n",
       "      <td>5.059644</td>\n",
       "    </tr>\n",
       "    <tr>\n",
       "      <th>18</th>\n",
       "      <td>14</td>\n",
       "      <td>4.785714</td>\n",
       "      <td>3.0</td>\n",
       "      <td>4.060666</td>\n",
       "    </tr>\n",
       "    <tr>\n",
       "      <th>19</th>\n",
       "      <td>4</td>\n",
       "      <td>7.000000</td>\n",
       "      <td>5.0</td>\n",
       "      <td>7.348469</td>\n",
       "    </tr>\n",
       "  </tbody>\n",
       "</table>\n",
       "</div>"
      ],
      "text/plain": [
       "                    count       mean  median       std\n",
       "semi_draw_position                                    \n",
       "1                      26   9.769231    10.0  4.893324\n",
       "2                      28  11.714286    11.5  4.026368\n",
       "3                      28  11.892857    14.0  5.335689\n",
       "4                      28  10.071429    10.5  4.429937\n",
       "5                      28  10.000000    10.5  4.883836\n",
       "6                      28   8.392857     7.5  5.397800\n",
       "7                      28   9.000000    10.0  4.853407\n",
       "8                      28   8.821429     8.5  4.830870\n",
       "9                      28   8.178571     8.0  5.149999\n",
       "10                     28   9.500000     9.5  5.231670\n",
       "11                     28  11.214286    11.5  4.112827\n",
       "12                     28   8.214286     7.0  5.272972\n",
       "13                     28   8.428571     8.5  5.202767\n",
       "14                     28   8.321429     9.0  4.430982\n",
       "15                     28   8.357143     7.0  5.271968\n",
       "16                     26   8.615385     8.0  5.593403\n",
       "17                     21   8.000000     6.0  5.059644\n",
       "18                     14   4.785714     3.0  4.060666\n",
       "19                      4   7.000000     5.0  7.348469"
      ]
     },
     "execution_count": 29,
     "metadata": {},
     "output_type": "execute_result"
    }
   ],
   "source": [
    "# See the results\n",
    "draw_position_stats_semis"
   ]
  },
  {
   "cell_type": "code",
   "execution_count": 31,
   "id": "9c59b8d2-289e-4ddb-b3d4-defe3086ae26",
   "metadata": {},
   "outputs": [],
   "source": [
    "# Filter out draw positions 18 and 19 due to too few observations\n",
    "# It would have negatively impacted the rest of our analysis\n",
    "semis_df = semis_df[semis_df['semi_draw_position'] <= 17]"
   ]
  },
  {
   "cell_type": "code",
   "execution_count": 44,
   "id": "d61ffac3-fa8d-4027-885e-0445a9e08517",
   "metadata": {},
   "outputs": [],
   "source": [
    "# Repeat without 18th and 19th positions\n",
    "draw_position_stats_semis = semis_df.groupby('semi_draw_position')['semi_place'].agg(['count', 'mean', 'median', 'std']).sort_index()"
   ]
  },
  {
   "cell_type": "code",
   "execution_count": 33,
   "id": "5fe11f3a-9a40-4109-95c4-27194b6021d2",
   "metadata": {},
   "outputs": [
    {
     "data": {
      "image/png": "[encoded data removed]",
      "text/plain": [
       "<Figure size 600x400 with 1 Axes>"
      ]
     },
     "metadata": {},
     "output_type": "display_data"
    }
   ],
   "source": [
    "# Create a boxplot to see if there are any outliers and visualize our data\n",
    "de.vs.boxplot(data=semis_df, x='semi_draw_position', y='semi_place', title='Semi-Final Place by Draw Position', \n",
    "              xlabel='Semi-Final Draw Position', ylabel='Semi Place (Lower is Better)')"
   ]
  },
  {
   "cell_type": "code",
   "execution_count": 35,
   "id": "f2537b5c-03bc-413c-a2ed-5ce91a96cd80",
   "metadata": {},
   "outputs": [
    {
     "data": {
      "image/png": "[encoded data removed]",
      "text/plain": [
       "<Figure size 640x480 with 1 Axes>"
      ]
     },
     "metadata": {},
     "output_type": "display_data"
    }
   ],
   "source": [
    "# Create a barplot to visualize overall performance of each position as well as the standard error\n",
    "de.vs.barplot(semis_df, x_col='semi_draw_position', y_col='semi_place', agg_func='mean', \n",
    "              title='Average Semi-Final Place per Draw Position', \n",
    "              xlabel='Draw Position', ylabel='Average Semi Place')"
   ]
  },
  {
   "cell_type": "markdown",
   "id": "f512f439-dc7d-4cce-b0e2-aa8848d11c46",
   "metadata": {},
   "source": [
    "##### From our draw position stats and our boxplot and barplot we now see the following:\n",
    "- On average the mean of the 17 draw positions seem to be higher early on and drop off towards the last half - the exception being 11th position.\n",
    "- The median appears higher in the earlier entries and gradually dropping towards the latter half of the semi-finals.\n",
    "- The STD (standard deviation) across our 17 draw positions seem quite consistent between 4.02 & 5.59.\n",
    "\n",
    "The boxplot shows that interestingly there's a fair amount of consistency. Both in terms of maximum and minimum data values but also the medians. The most obvious exceptions are the 2nd and 11th draw positions. We can see that 2nd position has an unusually high minimum data value while 11th position has rather narrow high and low quartile values.\n",
    "The 3rd and 17th positions are also a little interesting in that, the former has the median and the latter has the lowest.\n",
    "\n",
    "The barplot shows us the overall performance of each draw position, and it's clear that 2nd, 3rd and 11th positions have the 'worst' (mean/average) performance with roughly equal standard errors. At the same time we see that draw positions 6, 9 and 17 appear to be the, on average, best performing draw positions. "
   ]
  },
  {
   "cell_type": "markdown",
   "id": "64ce3653-0c42-41ee-bbd3-d91faf2aa650",
   "metadata": {},
   "source": [
    "#### Attempt at testing our hypothesis and use z-scores\n",
    "That there is/are certain positions that are noticeably more favourable than others."
   ]
  },
  {
   "cell_type": "code",
   "execution_count": 46,
   "id": "46d5e97a-8bf9-44ed-bfe1-6fca92868f6b",
   "metadata": {},
   "outputs": [],
   "source": [
    "# Extracts the mean values for each draw position from our previous calculation\n",
    "# Calculates the z_scores of the mean values\n",
    "draw_position_means_semis = draw_position_stats_semis['mean']\n",
    "z_scores_semis = zscore(draw_position_means_semis)"
   ]
  },
  {
   "cell_type": "code",
   "execution_count": 48,
   "id": "0290bdfe-d2f0-494f-8c6b-b50a09515ac2",
   "metadata": {},
   "outputs": [
    {
     "data": {
      "text/plain": [
       "semi_draw_position\n",
       "1     0.361517\n",
       "2     1.937476\n",
       "3     2.082162\n",
       "4     0.606370\n",
       "5     0.548496\n",
       "6    -0.753674\n",
       "7    -0.261743\n",
       "8    -0.406429\n",
       "9    -0.927297\n",
       "10    0.143376\n",
       "11    1.532357\n",
       "12   -0.898360\n",
       "13   -0.724737\n",
       "14   -0.811548\n",
       "15   -0.782611\n",
       "16   -0.573374\n",
       "17   -1.071982\n",
       "Name: mean, dtype: float64"
      ]
     },
     "execution_count": 48,
     "metadata": {},
     "output_type": "execute_result"
    }
   ],
   "source": [
    "z_scores_semis"
   ]
  },
  {
   "cell_type": "markdown",
   "id": "35e21a1a-7ade-445d-8c43-6e87032812bb",
   "metadata": {},
   "source": [
    "##### Computing z-scores of the mean semi place for each draw position to see if any stands out.\n",
    "- 2nd draw position having a z-score of 1.937 it means that the average semi place of entries starting at position 2 are just below 2 standrad deviations worse than the overall average of all positions.\n",
    "- 3rd draw position having a z-score of 2.082 it means that the average semi place of entries starting at position 3 are over 2 standrad deviations worse than the overall average of all positions.\n",
    "- 11th draw position having a z-score of 1.532 it means that the average semi place of entries starting at position 11 are 1.5 standrad deviations worse than the overall average of all positions.\n",
    "With 1.96 typically being enough to be considered statistically \"extreme\", we have exceeded this number once. This means we can technically say that 3rd draw position is an outlier by itself. No other draw positions has a higher z-score than position 3, albeit 2 is close. Interestingly, we do see that positions 9 and 17 have z-scores of -0.927 and 1.071 seemingly making them the best draw positions to have."
   ]
  },
  {
   "cell_type": "code",
   "execution_count": 59,
   "id": "b25aa35d-b0be-4575-8249-1f23822d9332",
   "metadata": {},
   "outputs": [],
   "source": [
    "# Worth investigating further are 2nd and 3rd positions\n",
    "position_2_semis = semis_df[semis_df['semi_draw_position'] == 2]['semi_place']\n",
    "other_positions_than_2_semis = semis_df[semis_df['semi_draw_position'] != 2]['semi_place']\n",
    "position_3_semis = semis_df[semis_df['semi_draw_position'] == 3]['semi_place']\n",
    "other_positions_than_3_semis = semis_df[semis_df['semi_draw_position'] != 3]['semi_place']"
   ]
  },
  {
   "cell_type": "code",
   "execution_count": 61,
   "id": "33178d25-4e77-4f48-967f-7f8938ee5146",
   "metadata": {},
   "outputs": [
    {
     "name": "stdout",
     "output_type": "stream",
     "text": [
      "T-statistic - 2nd draw: 3.1593136143696214, p-value: 0.00339650778730617\n",
      "T-statistic - 3rd draw: 2.617972553150448, p-value: 0.013716697446592225\n"
     ]
    }
   ],
   "source": [
    "# A 2 sample t-test (semi place for position X - sample1, semi place for all other positions - sample2)\n",
    "# equal_var=False means we are doing a Welch's t-test. Taking into account that sample2 is larger than sample1, and that variability might differ\n",
    "# t_stat is a measure of the difference between sample means relative to variance\n",
    "# p_val is the probability that any observed differences are simply due to chance/randomness\n",
    "t_stat_2, p_val_2 = ttest_ind(position_2_semis, other_positions_than_2_semis, equal_var=False)\n",
    "t_stat_3, p_val_3 = ttest_ind(position_3_semis, other_positions_than_3_semis, equal_var=False)\n",
    "print(f\"T-statistic - 2nd draw: {t_stat_2}, p-value: {p_val_2}\")\n",
    "print(f\"T-statistic - 3rd draw: {t_stat_3}, p-value: {p_val_3}\")"
   ]
  },
  {
   "cell_type": "markdown",
   "id": "01a8be29-c22c-42e1-a789-afec9e6e468c",
   "metadata": {},
   "source": [
    "##### T-Test of position 2 and 3\n",
    "Using Welch's t-test, comparing position 2 and 3 versus all other draw positions, we get a p-values of just 0.003 and 0.013, plus t-statistics of 3.159 and 2.617. \n",
    "The t-statistics indicate that the difference between the mean semi placements of the two groups (X place vs rest of data) is approx. 3.15 and 2.61 standard errors apart respectively, which is strong evidence of a meaningful difference for both placements. \n",
    "Our result when comparing position 2 and 3 to all other positions combined, is that we observe worse average placement for postion 2 and 3. This must be taken with a slight grain of salt however as we are comparing with entries from all other positions - creating an imbalance. However, these scores are still significant enough that even compared against a field of positions, that we can say they are worse draw positions.\n",
    "\n",
    "The p-values are low. Our hypothesis being that starting at 2nd draw position/some positions are noticeably better/worse than others, this means our null hypothesis is that there is no difference. If the p-value is smaller than 0.05 that's ordinarily enough to reject the null hypothesis. \n",
    "For 2nd position we can reject our null hypothesis.\n",
    "For 3rd position we cannot."
   ]
  }
 ],
 "metadata": {
  "kernelspec": {
   "display_name": "Python [conda env:base] *",
   "language": "python",
   "name": "conda-base-py"
  },
  "language_info": {
   "codemirror_mode": {
    "name": "ipython",
    "version": 3
   },
   "file_extension": ".py",
   "mimetype": "text/x-python",
   "name": "python",
   "nbconvert_exporter": "python",
   "pygments_lexer": "ipython3",
   "version": "3.12.7"
  }
 },
 "nbformat": 4,
 "nbformat_minor": 5
}
