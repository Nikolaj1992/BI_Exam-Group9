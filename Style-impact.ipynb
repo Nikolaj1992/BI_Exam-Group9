{
 "cells": [
  {
   "cell_type": "code",
   "execution_count": null,
   "id": "3e6ccec5-7107-4201-92d7-0d4a9dbbc90a",
   "metadata": {},
   "outputs": [],
   "source": [
    "import pandas as pd\n",
    "import seaborn as sns\n",
    "import matplotlib.pyplot as plt\n",
    "from scipy.stats import f_oneway, stats"
   ]
  },
  {
   "cell_type": "markdown",
   "id": "324be4ca-9e19-4c23-89ea-9db45db0174a",
   "metadata": {},
   "source": [
    "#### Loading Cleaned Data\n",
    "We begin by loading our cleaned dataset and selecting only the relevant columns for this analysis: style and final_place."
   ]
  },
  {
   "cell_type": "code",
   "execution_count": null,
   "id": "118f9e01-2f0d-4246-9eea-02231402a988",
   "metadata": {},
   "outputs": [],
   "source": [
    "# Load your dataset\n",
    "df = pd.read_csv('Data/finalists_cleaned.csv')"
   ]
  },
  {
   "cell_type": "code",
   "execution_count": null,
   "id": "bd63468f-8001-474d-9ddb-456d08324efa",
   "metadata": {},
   "outputs": [],
   "source": [
    "df = df[['style', 'final_place']].dropna()"
   ]
  },
  {
   "cell_type": "markdown",
   "id": "b67c4071-7b05-4355-bf49-0038ff5c4f49",
   "metadata": {},
   "source": [
    "#### Quick Peek at the Data"
   ]
  },
  {
   "cell_type": "code",
   "execution_count": null,
   "id": "59bc5eeb-1223-4635-8998-a0b66f3ac571",
   "metadata": {},
   "outputs": [],
   "source": [
    "# Show first few rows\n",
    "print(\"Sample data:\")\n",
    "print(df.head())"
   ]
  },
  {
   "cell_type": "code",
   "execution_count": null,
   "id": "de53adda-a198-4735-b85b-2371abdd2734",
   "metadata": {},
   "outputs": [],
   "source": [
    "df.describe"
   ]
  },
  {
   "cell_type": "markdown",
   "id": "a50ab9c8-6673-4853-8a75-f45b8f64ce55",
   "metadata": {},
   "source": [
    "#### Explore Style Distribution\n",
    "Check how many entries belong to each style. This helps us understand if some styles are overrepresented."
   ]
  },
  {
   "cell_type": "code",
   "execution_count": null,
   "id": "89151ded-59da-4d07-8122-da5aef9fc840",
   "metadata": {},
   "outputs": [],
   "source": [
    "df['style'].value_counts()"
   ]
  },
  {
   "cell_type": "markdown",
   "id": "2f8736cf-dc5b-48b2-a6af-54adbf99994e",
   "metadata": {},
   "source": [
    "We also prepare a version of the style column that includes the count for easier interpretation in plots:"
   ]
  },
  {
   "cell_type": "code",
   "execution_count": null,
   "id": "87cc52b9-677e-4a15-9abc-a54c60cef698",
   "metadata": {},
   "outputs": [],
   "source": [
    "style_counts = df['style'].value_counts()"
   ]
  },
  {
   "cell_type": "code",
   "execution_count": null,
   "id": "2b63d8fd-18cb-4d98-89a0-cf68c6baa7ab",
   "metadata": {},
   "outputs": [],
   "source": [
    "#Add a column that are used for visualization\n",
    "df['style_with_count'] = df['style'].apply(lambda x: f\"{x} (n={style_counts[x]})\")"
   ]
  },
  {
   "cell_type": "markdown",
   "id": "f5973e6b-0b3e-4004-a269-4b7d246a237a",
   "metadata": {},
   "source": [
    "####  Define Winning Entries\n",
    "Add a column to flag whether a participant won (i.e., finished in first place)."
   ]
  },
  {
   "cell_type": "code",
   "execution_count": null,
   "id": "7f3b0a5b-c286-4ef3-b75e-82fde4bd847e",
   "metadata": {},
   "outputs": [],
   "source": [
    "# Add a column for winners\n",
    "df['is_winner'] = (df['final_place'] == 1).astype(int)"
   ]
  },
  {
   "cell_type": "code",
   "execution_count": null,
   "id": "e981d9c8-0f06-4f2c-8690-868aacaa32a5",
   "metadata": {},
   "outputs": [],
   "source": [
    "# Calculate win rate per genre\n",
    "win_rates = df.groupby('style')['is_winner'].mean().sort_values(ascending=False)\n",
    "win_rates"
   ]
  },
  {
   "cell_type": "markdown",
   "id": "4a84f988-0ce8-4349-9eb0-75057527ee07",
   "metadata": {},
   "source": [
    "Convert the result into a clean DataFrame:"
   ]
  },
  {
   "cell_type": "code",
   "execution_count": null,
   "id": "c6476ba9-416a-4a0b-a7a8-11eb2ab420ae",
   "metadata": {},
   "outputs": [],
   "source": [
    "win_rates_df = win_rates.reset_index()  # This creates a DataFrame with two columns\n",
    "win_rates_df.columns = ['Style', 'Win Rate']  # Rename those two columns properly"
   ]
  },
  {
   "cell_type": "markdown",
   "id": "6c0bf2b4-acd6-4a8a-9366-78ada945b19c",
   "metadata": {},
   "source": [
    "#### Statistical Analysis: ANOVA Test\n",
    "We use one-way ANOVA to test whether there are statistically significant differences in final placement across styles."
   ]
  },
  {
   "cell_type": "code",
   "execution_count": null,
   "id": "4ce4f3fe-5e65-4fec-aeb8-798e00df12af",
   "metadata": {},
   "outputs": [],
   "source": [
    "grouped = [group['final_place'].values for _, group in df.groupby('style')]"
   ]
  },
  {
   "cell_type": "code",
   "execution_count": null,
   "id": "c95b38e9-37f7-4ece-9899-2a3434d05957",
   "metadata": {},
   "outputs": [],
   "source": [
    "# Perform ANOVA test\n",
    "f_stat, p_val = f_oneway(*grouped)"
   ]
  },
  {
   "cell_type": "code",
   "execution_count": null,
   "id": "2ea0bd6b-60a4-402e-8ecc-1e769a843770",
   "metadata": {},
   "outputs": [],
   "source": [
    "print(\"\\n=== ANOVA Test Results ===\")\n",
    "print(f\"F-statistic: {f_stat:.2f}\")\n",
    "print(f\"p-value: {p_val:.4f}\")"
   ]
  },
  {
   "cell_type": "code",
   "execution_count": null,
   "id": "d0227a8d-d446-443c-a62e-f0a3dc5bd1e7",
   "metadata": {},
   "outputs": [],
   "source": [
    "# Interpret the p-value\n",
    "if p_val < 0.05:\n",
    "    print(\"✅ There is a statistically significant difference in final placement between styles.\")\n",
    "else:\n",
    "    print(\"❌ No statistically significant difference found between styles.\")"
   ]
  },
  {
   "cell_type": "markdown",
   "id": "951342f3-4663-4446-b921-0c5c22d9aad2",
   "metadata": {},
   "source": [
    "#### Visualization: Final Placement by Style\n",
    "A boxplot helps visualize the distribution of placements per style, including medians, quartiles, and outliers."
   ]
  },
  {
   "cell_type": "code",
   "execution_count": null,
   "id": "094e1c85-aded-493e-99cf-c732805ae0d7",
   "metadata": {},
   "outputs": [],
   "source": [
    "# Visualize: Boxplot of final_place grouped by style\n",
    "plt.figure(figsize=(12, 6))\n",
    "sns.boxplot(data=df, x='style_with_count', y='final_place')\n",
    "plt.title(\"Final Placement by Style (with Entry Counts)\")\n",
    "plt.xticks(rotation=45)\n",
    "plt.tight_layout()\n",
    "plt.show()"
   ]
  },
  {
   "cell_type": "markdown",
   "id": "11b14494-6a02-4bd9-abd2-344df57daeea",
   "metadata": {},
   "source": [
    "#### Visualization: Win Rates by Style\n",
    "We now visualize the percentage of winners in each style using a bar chart."
   ]
  },
  {
   "cell_type": "code",
   "execution_count": null,
   "id": "a13ba953-bcfb-47f1-a9c0-fa0a7a3392e8",
   "metadata": {},
   "outputs": [],
   "source": [
    "# Convert win rates to percentage\n",
    "win_rates_df['Win Rate'] = win_rates_df['Win Rate'] * 100\n",
    "\n",
    "plt.figure(figsize=(8,5))\n",
    "sns.barplot(data=win_rates_df, x='Style', y='Win Rate', hue='Style', palette='viridis', legend=False)\n",
    "plt.title('Win Rates by Style (%)')\n",
    "plt.ylabel('Win Rate (%)')\n",
    "plt.xlabel('Style')\n",
    "plt.ylim(0, win_rates_df['Win Rate'].max() + 2)  # little padding on top\n",
    "\n",
    "# Add percentage labels on top of the bars\n",
    "for i, rate in enumerate(win_rates_df['Win Rate']):\n",
    "    plt.text(i, rate + 0.3, f\"{rate:.2f}%\", ha='center')\n",
    "\n",
    "plt.show()\n"
   ]
  },
  {
   "cell_type": "code",
   "execution_count": null,
   "id": "79a1f41b-913c-4ee8-82a1-87bfe8c2283b",
   "metadata": {},
   "outputs": [],
   "source": []
  }
 ],
 "metadata": {
  "kernelspec": {
   "display_name": "Python [conda env:base] *",
   "language": "python",
   "name": "conda-base-py"
  },
  "language_info": {
   "codemirror_mode": {
    "name": "ipython",
    "version": 3
   },
   "file_extension": ".py",
   "mimetype": "text/x-python",
   "name": "python",
   "nbconvert_exporter": "python",
   "pygments_lexer": "ipython3",
   "version": "3.12.7"
  }
 },
 "nbformat": 4,
 "nbformat_minor": 5
}
