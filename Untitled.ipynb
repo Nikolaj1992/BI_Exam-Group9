{
 "cells": [
  {
   "cell_type": "code",
   "execution_count": 1,
   "id": "b98ed218-2e8a-4c8b-af82-a4249f150fb1",
   "metadata": {},
   "outputs": [
    {
     "name": "stdout",
     "output_type": "stream",
     "text": [
      "Requirement already satisfied: yellowbrick in d:\\anaconda\\lib\\site-packages (1.5)\n",
      "Requirement already satisfied: matplotlib!=3.0.0,>=2.0.2 in d:\\anaconda\\lib\\site-packages (from yellowbrick) (3.9.2)\n",
      "Requirement already satisfied: scipy>=1.0.0 in d:\\anaconda\\lib\\site-packages (from yellowbrick) (1.13.1)\n",
      "Requirement already satisfied: scikit-learn>=1.0.0 in d:\\anaconda\\lib\\site-packages (from yellowbrick) (1.5.1)\n",
      "Requirement already satisfied: numpy>=1.16.0 in d:\\anaconda\\lib\\site-packages (from yellowbrick) (1.26.4)\n",
      "Requirement already satisfied: cycler>=0.10.0 in d:\\anaconda\\lib\\site-packages (from yellowbrick) (0.11.0)\n",
      "Requirement already satisfied: contourpy>=1.0.1 in d:\\anaconda\\lib\\site-packages (from matplotlib!=3.0.0,>=2.0.2->yellowbrick) (1.2.0)\n",
      "Requirement already satisfied: fonttools>=4.22.0 in d:\\anaconda\\lib\\site-packages (from matplotlib!=3.0.0,>=2.0.2->yellowbrick) (4.51.0)\n",
      "Requirement already satisfied: kiwisolver>=1.3.1 in d:\\anaconda\\lib\\site-packages (from matplotlib!=3.0.0,>=2.0.2->yellowbrick) (1.4.4)\n",
      "Requirement already satisfied: packaging>=20.0 in d:\\anaconda\\lib\\site-packages (from matplotlib!=3.0.0,>=2.0.2->yellowbrick) (24.1)\n",
      "Requirement already satisfied: pillow>=8 in d:\\anaconda\\lib\\site-packages (from matplotlib!=3.0.0,>=2.0.2->yellowbrick) (10.4.0)\n",
      "Requirement already satisfied: pyparsing>=2.3.1 in d:\\anaconda\\lib\\site-packages (from matplotlib!=3.0.0,>=2.0.2->yellowbrick) (3.1.2)\n",
      "Requirement already satisfied: python-dateutil>=2.7 in d:\\anaconda\\lib\\site-packages (from matplotlib!=3.0.0,>=2.0.2->yellowbrick) (2.9.0.post0)\n",
      "Requirement already satisfied: joblib>=1.2.0 in d:\\anaconda\\lib\\site-packages (from scikit-learn>=1.0.0->yellowbrick) (1.4.2)\n",
      "Requirement already satisfied: threadpoolctl>=3.1.0 in d:\\anaconda\\lib\\site-packages (from scikit-learn>=1.0.0->yellowbrick) (3.5.0)\n",
      "Requirement already satisfied: six>=1.5 in d:\\anaconda\\lib\\site-packages (from python-dateutil>=2.7->matplotlib!=3.0.0,>=2.0.2->yellowbrick) (1.16.0)\n"
     ]
    }
   ],
   "source": [
    "!pip install yellowbrick"
   ]
  },
  {
   "cell_type": "code",
   "execution_count": 2,
   "id": "510a3392-6825-4f76-b137-0ca398249aa0",
   "metadata": {},
   "outputs": [
    {
     "name": "stdout",
     "output_type": "stream",
     "text": [
      "Requirement already satisfied: pycountry in d:\\anaconda\\lib\\site-packages (24.6.1)\n"
     ]
    }
   ],
   "source": [
    "!pip install pycountry"
   ]
  },
  {
   "cell_type": "code",
   "execution_count": 3,
   "id": "99ce2ab5-0129-4bb2-86ac-415e2c198a01",
   "metadata": {},
   "outputs": [],
   "source": [
    "import pandas as pd\n",
    "import numpy as np\n",
    "from sklearn.preprocessing import StandardScaler\n",
    "from sklearn.cluster import KMeans\n",
    "from sklearn.decomposition import PCA\n",
    "from yellowbrick.cluster import SilhouetteVisualizer\n",
    "import matplotlib.pyplot as plt\n",
    "from scipy.spatial.distance import cdist"
   ]
  },
  {
   "cell_type": "code",
   "execution_count": 4,
   "id": "a8256769-2482-4bdd-9890-0a5e6e0da456",
   "metadata": {},
   "outputs": [],
   "source": [
    "df = pd.read_csv('Data/finalists_cleaned.csv')"
   ]
  },
  {
   "cell_type": "code",
   "execution_count": 5,
   "id": "1e279758-3f2b-46b8-8523-ba1220432765",
   "metadata": {},
   "outputs": [],
   "source": [
    "# Load and select relevant columns\n",
    "df_cluster = df[['year', 'country', 'style', 'final_total_points']].copy()"
   ]
  },
  {
   "cell_type": "code",
   "execution_count": 6,
   "id": "8696fa37-534f-4d8f-aa9f-d119940a04d6",
   "metadata": {},
   "outputs": [],
   "source": [
    "# One-hot encode categorical variables\n",
    "df_cluster = pd.get_dummies(df_cluster, columns=['country', 'style'])"
   ]
  },
  {
   "cell_type": "code",
   "execution_count": 7,
   "id": "5b9b85cb-6138-43dd-b249-9a7d0ddb4690",
   "metadata": {},
   "outputs": [
    {
     "data": {
      "text/plain": [
       "<bound method NDFrame.describe of      year  final_total_points  country_Albania  country_Armenia  \\\n",
       "0    2023               268.0            False            False   \n",
       "1    2023                30.0            False            False   \n",
       "2    2023                59.0            False            False   \n",
       "3    2023               123.0            False            False   \n",
       "4    2023                92.0            False            False   \n",
       "..    ...                 ...              ...              ...   \n",
       "353  2009               218.0            False            False   \n",
       "354  2009               185.0            False            False   \n",
       "355  2009                91.0            False            False   \n",
       "356  2009               328.0            False            False   \n",
       "357  2009                47.0            False            False   \n",
       "\n",
       "     country_Australia  country_Austria  country_Azerbaijan  country_Belarus  \\\n",
       "0                False            False               False            False   \n",
       "1                False            False               False            False   \n",
       "2                False            False               False            False   \n",
       "3                False            False               False            False   \n",
       "4                False            False               False            False   \n",
       "..                 ...              ...                 ...              ...   \n",
       "353              False            False               False            False   \n",
       "354              False            False               False            False   \n",
       "355              False            False               False            False   \n",
       "356              False            False               False            False   \n",
       "357              False            False               False            False   \n",
       "\n",
       "     country_Belgium  country_Bosnia and Herzegovina  ...  \\\n",
       "0              False                           False  ...   \n",
       "1              False                           False  ...   \n",
       "2              False                           False  ...   \n",
       "3              False                           False  ...   \n",
       "4              False                           False  ...   \n",
       "..               ...                             ...  ...   \n",
       "353            False                           False  ...   \n",
       "354            False                           False  ...   \n",
       "355            False                           False  ...   \n",
       "356            False                           False  ...   \n",
       "357            False                           False  ...   \n",
       "\n",
       "     country_Switzerland  country_Turkey  country_Ukraine  \\\n",
       "0                  False           False            False   \n",
       "1                  False           False            False   \n",
       "2                  False           False            False   \n",
       "3                  False           False            False   \n",
       "4                   True           False            False   \n",
       "..                   ...             ...              ...   \n",
       "353                False           False            False   \n",
       "354                False           False            False   \n",
       "355                False           False            False   \n",
       "356                False           False            False   \n",
       "357                False           False            False   \n",
       "\n",
       "     country_United Kingdom  style_Ballad  style_Dance  style_Opera  \\\n",
       "0                     False         False        False        False   \n",
       "1                     False         False        False        False   \n",
       "2                     False         False        False        False   \n",
       "3                     False         False        False        False   \n",
       "4                     False          True        False        False   \n",
       "..                      ...           ...          ...          ...   \n",
       "353                   False          True        False        False   \n",
       "354                   False          True        False        False   \n",
       "355                   False         False        False        False   \n",
       "356                    True          True        False        False   \n",
       "357                   False         False         True        False   \n",
       "\n",
       "     style_Pop  style_Rock  style_Traditional  \n",
       "0         True       False              False  \n",
       "1         True       False              False  \n",
       "2         True       False              False  \n",
       "3         True       False              False  \n",
       "4        False       False              False  \n",
       "..         ...         ...                ...  \n",
       "353      False       False              False  \n",
       "354      False       False              False  \n",
       "355       True       False              False  \n",
       "356      False       False              False  \n",
       "357      False       False              False  \n",
       "\n",
       "[358 rows x 53 columns]>"
      ]
     },
     "execution_count": 7,
     "metadata": {},
     "output_type": "execute_result"
    }
   ],
   "source": [
    "df_cluster.describe"
   ]
  },
  {
   "cell_type": "code",
   "execution_count": 8,
   "id": "37c50371-4304-4fbf-be5e-e5d49e57be11",
   "metadata": {},
   "outputs": [],
   "source": [
    "# Scale the data\n",
    "scaler = StandardScaler()\n",
    "X_scaled = scaler.fit_transform(df_cluster)"
   ]
  },
  {
   "cell_type": "code",
   "execution_count": 9,
   "id": "65b2f211-feac-40d4-8c73-c55fa44b34a7",
   "metadata": {},
   "outputs": [],
   "source": [
    "pca = PCA(n_components=2)\n",
    "X = pca.fit_transform(X_scaled)  # assuming your features are scaled\n"
   ]
  },
  {
   "cell_type": "code",
   "execution_count": 10,
   "id": "d6fb45fc-f4dc-4e01-847f-bc9be8bc77e1",
   "metadata": {},
   "outputs": [
    {
     "name": "stdout",
     "output_type": "stream",
     "text": [
      "Distortion values: [1.2190704334448261, 0.8712314278401212, 0.7533921697980099, 0.6748343310480984, 0.6243682380069723, 0.5848571542963963, 0.5479912455033892, 0.5234334195737712]\n"
     ]
    },
    {
     "name": "stderr",
     "output_type": "stream",
     "text": [
      "D:\\Anaconda\\Lib\\site-packages\\sklearn\\cluster\\_kmeans.py:1429: UserWarning: KMeans is known to have a memory leak on Windows with MKL, when there are less chunks than available threads. You can avoid it by setting the environment variable OMP_NUM_THREADS=2.\n",
      "  warnings.warn(\n",
      "D:\\Anaconda\\Lib\\site-packages\\sklearn\\cluster\\_kmeans.py:1429: UserWarning: KMeans is known to have a memory leak on Windows with MKL, when there are less chunks than available threads. You can avoid it by setting the environment variable OMP_NUM_THREADS=2.\n",
      "  warnings.warn(\n",
      "D:\\Anaconda\\Lib\\site-packages\\sklearn\\cluster\\_kmeans.py:1429: UserWarning: KMeans is known to have a memory leak on Windows with MKL, when there are less chunks than available threads. You can avoid it by setting the environment variable OMP_NUM_THREADS=2.\n",
      "  warnings.warn(\n",
      "D:\\Anaconda\\Lib\\site-packages\\sklearn\\cluster\\_kmeans.py:1429: UserWarning: KMeans is known to have a memory leak on Windows with MKL, when there are less chunks than available threads. You can avoid it by setting the environment variable OMP_NUM_THREADS=2.\n",
      "  warnings.warn(\n",
      "D:\\Anaconda\\Lib\\site-packages\\sklearn\\cluster\\_kmeans.py:1429: UserWarning: KMeans is known to have a memory leak on Windows with MKL, when there are less chunks than available threads. You can avoid it by setting the environment variable OMP_NUM_THREADS=2.\n",
      "  warnings.warn(\n",
      "D:\\Anaconda\\Lib\\site-packages\\sklearn\\cluster\\_kmeans.py:1429: UserWarning: KMeans is known to have a memory leak on Windows with MKL, when there are less chunks than available threads. You can avoid it by setting the environment variable OMP_NUM_THREADS=2.\n",
      "  warnings.warn(\n",
      "D:\\Anaconda\\Lib\\site-packages\\sklearn\\cluster\\_kmeans.py:1429: UserWarning: KMeans is known to have a memory leak on Windows with MKL, when there are less chunks than available threads. You can avoid it by setting the environment variable OMP_NUM_THREADS=2.\n",
      "  warnings.warn(\n",
      "D:\\Anaconda\\Lib\\site-packages\\sklearn\\cluster\\_kmeans.py:1429: UserWarning: KMeans is known to have a memory leak on Windows with MKL, when there are less chunks than available threads. You can avoid it by setting the environment variable OMP_NUM_THREADS=2.\n",
      "  warnings.warn(\n"
     ]
    }
   ],
   "source": [
    "from scipy.spatial.distance import cdist\n",
    "\n",
    "distortions = []\n",
    "K = range(2, 10)\n",
    "\n",
    "for k in K:\n",
    "    model = KMeans(n_clusters=k, n_init=10, random_state=42)\n",
    "    model.fit(X)\n",
    "    # Calculate average minimum distance to cluster centers\n",
    "    dist = sum(np.min(cdist(X, model.cluster_centers_, 'euclidean'), axis=1)) / X.shape[0]\n",
    "    distortions.append(dist)\n",
    "\n",
    "print(\"Distortion values:\", distortions)\n",
    "\n"
   ]
  },
  {
   "cell_type": "code",
   "execution_count": 11,
   "id": "f1f02617-255c-4a9a-91fe-25d8a8ab7022",
   "metadata": {},
   "outputs": [
    {
     "data": {
      "image/png": "[encoded data removed]",
      "text/plain": [
       "<Figure size 800x550 with 1 Axes>"
      ]
     },
     "metadata": {},
     "output_type": "display_data"
    }
   ],
   "source": [
    "plt.title('Elbow Method for Optimal K')\n",
    "plt.plot(K, distortions, 'bx-')\n",
    "plt.xlabel('K')\n",
    "plt.ylabel('Distortion')\n",
    "plt.show()"
   ]
  },
  {
   "cell_type": "code",
   "execution_count": 12,
   "id": "5234b962-98a3-47c4-b702-83f3b37c8852",
   "metadata": {},
   "outputs": [],
   "source": [
    "# Choose number of clusters\n",
    "n_clusters = 3\n",
    "model2 = KMeans(n_clusters=n_clusters, random_state=42)"
   ]
  },
  {
   "cell_type": "code",
   "execution_count": 13,
   "id": "35d5e055-42a9-40e3-92c2-072011825ce1",
   "metadata": {},
   "outputs": [
    {
     "name": "stderr",
     "output_type": "stream",
     "text": [
      "D:\\Anaconda\\Lib\\site-packages\\sklearn\\cluster\\_kmeans.py:1429: UserWarning: KMeans is known to have a memory leak on Windows with MKL, when there are less chunks than available threads. You can avoid it by setting the environment variable OMP_NUM_THREADS=2.\n",
      "  warnings.warn(\n"
     ]
    },
    {
     "data": {
      "image/png": "[encoded data removed]",
      "text/plain": [
       "<Figure size 800x550 with 1 Axes>"
      ]
     },
     "metadata": {},
     "output_type": "display_data"
    },
    {
     "data": {
      "text/plain": [
       "<Axes: title={'center': 'Silhouette Plot of KMeans Clustering for 358 Samples in 3 Centers'}, xlabel='silhouette coefficient values', ylabel='cluster label'>"
      ]
     },
     "execution_count": 13,
     "metadata": {},
     "output_type": "execute_result"
    }
   ],
   "source": [
    "visualizer = SilhouetteVisualizer(model2, colors='yellowbrick')\n",
    "visualizer.fit(X)\n",
    "visualizer.show()"
   ]
  },
  {
   "cell_type": "code",
   "execution_count": 14,
   "id": "baa08872-a432-4053-97f0-6b2ea7a24aea",
   "metadata": {},
   "outputs": [
    {
     "name": "stdout",
     "output_type": "stream",
     "text": [
      "   year      country   style  final_total_points\n",
      "0  2023       Norway     Pop               268.0\n",
      "1  2023       Serbia     Pop                30.0\n",
      "2  2023     Portugal     Pop                59.0\n",
      "3  2023      Croatia     Pop               123.0\n",
      "4  2023  Switzerland  Ballad                92.0\n"
     ]
    }
   ],
   "source": [
    "# List of columns to drop\n",
    "to_drop = [\n",
    "    'final_draw_position',\n",
    "    'final_televote_points',\n",
    "    'final_jury_points',\n",
    "    'final_televote_votes',\n",
    "    'final_jury_votes',\n",
    "    'final_place'\n",
    "]\n",
    "\n",
    "# Drop them from df in‑place\n",
    "df.drop(columns=to_drop, inplace=True)\n",
    "\n",
    "# Now df only has the 5 columns you need\n",
    "print(df.head())\n"
   ]
  },
  {
   "cell_type": "code",
   "execution_count": 15,
   "id": "8350261c-731e-41dd-96e9-9412bdbd9bdb",
   "metadata": {},
   "outputs": [
    {
     "name": "stderr",
     "output_type": "stream",
     "text": [
      "D:\\Anaconda\\Lib\\site-packages\\sklearn\\cluster\\_kmeans.py:1429: UserWarning: KMeans is known to have a memory leak on Windows with MKL, when there are less chunks than available threads. You can avoid it by setting the environment variable OMP_NUM_THREADS=2.\n",
      "  warnings.warn(\n"
     ]
    },
    {
     "data": {
      "text/html": [
       "<div>\n",
       "<style scoped>\n",
       "    .dataframe tbody tr th:only-of-type {\n",
       "        vertical-align: middle;\n",
       "    }\n",
       "\n",
       "    .dataframe tbody tr th {\n",
       "        vertical-align: top;\n",
       "    }\n",
       "\n",
       "    .dataframe thead th {\n",
       "        text-align: right;\n",
       "    }\n",
       "</style>\n",
       "<table border=\"1\" class=\"dataframe\">\n",
       "  <thead>\n",
       "    <tr style=\"text-align: right;\">\n",
       "      <th></th>\n",
       "      <th>year</th>\n",
       "      <th>country</th>\n",
       "      <th>style</th>\n",
       "      <th>final_total_points</th>\n",
       "      <th>Cluster</th>\n",
       "    </tr>\n",
       "  </thead>\n",
       "  <tbody>\n",
       "    <tr>\n",
       "      <th>0</th>\n",
       "      <td>2023</td>\n",
       "      <td>Norway</td>\n",
       "      <td>Pop</td>\n",
       "      <td>268.0</td>\n",
       "      <td>1</td>\n",
       "    </tr>\n",
       "    <tr>\n",
       "      <th>1</th>\n",
       "      <td>2023</td>\n",
       "      <td>Serbia</td>\n",
       "      <td>Pop</td>\n",
       "      <td>30.0</td>\n",
       "      <td>1</td>\n",
       "    </tr>\n",
       "    <tr>\n",
       "      <th>2</th>\n",
       "      <td>2023</td>\n",
       "      <td>Portugal</td>\n",
       "      <td>Pop</td>\n",
       "      <td>59.0</td>\n",
       "      <td>1</td>\n",
       "    </tr>\n",
       "    <tr>\n",
       "      <th>3</th>\n",
       "      <td>2023</td>\n",
       "      <td>Croatia</td>\n",
       "      <td>Pop</td>\n",
       "      <td>123.0</td>\n",
       "      <td>1</td>\n",
       "    </tr>\n",
       "    <tr>\n",
       "      <th>4</th>\n",
       "      <td>2023</td>\n",
       "      <td>Switzerland</td>\n",
       "      <td>Ballad</td>\n",
       "      <td>92.0</td>\n",
       "      <td>2</td>\n",
       "    </tr>\n",
       "  </tbody>\n",
       "</table>\n",
       "</div>"
      ],
      "text/plain": [
       "   year      country   style  final_total_points  Cluster\n",
       "0  2023       Norway     Pop               268.0        1\n",
       "1  2023       Serbia     Pop                30.0        1\n",
       "2  2023     Portugal     Pop                59.0        1\n",
       "3  2023      Croatia     Pop               123.0        1\n",
       "4  2023  Switzerland  Ballad                92.0        2"
      ]
     },
     "execution_count": 15,
     "metadata": {},
     "output_type": "execute_result"
    }
   ],
   "source": [
    "# 1. Fit the model and get cluster assignments\n",
    "model2 = KMeans(n_clusters=n_clusters, random_state=42)\n",
    "clusters = model2.fit_predict(X)\n",
    "\n",
    "# 2. Save them into your original df\n",
    "df['Cluster'] = clusters\n",
    "\n",
    "# 3. Now you can inspect the Cluster column:\n",
    "df.head()\n",
    "\n"
   ]
  },
  {
   "cell_type": "code",
   "execution_count": 16,
   "id": "800bd76a-7c48-4fc6-9c99-95831c3de46d",
   "metadata": {},
   "outputs": [
    {
     "name": "stdout",
     "output_type": "stream",
     "text": [
      "Cluster labels: [1 2 0]\n"
     ]
    }
   ],
   "source": [
    "unique_clusters = df['Cluster'].unique()\n",
    "print(\"Cluster labels:\", unique_clusters)"
   ]
  },
  {
   "cell_type": "code",
   "execution_count": 17,
   "id": "a7361173-a63c-4bfb-bb40-9ad95d9eee03",
   "metadata": {},
   "outputs": [],
   "source": [
    "df.to_csv('Data/finalists_clustered.csv', index=False)"
   ]
  },
  {
   "cell_type": "code",
   "execution_count": null,
   "id": "4d6791c8-00eb-4a7f-ac1f-7cf25b7245f2",
   "metadata": {},
   "outputs": [],
   "source": []
  },
  {
   "cell_type": "code",
   "execution_count": null,
   "id": "593e4c07-ad57-4df3-a2d1-162c19cd5f47",
   "metadata": {},
   "outputs": [],
   "source": []
  }
 ],
 "metadata": {
  "kernelspec": {
   "display_name": "Python [conda env:base] *",
   "language": "python",
   "name": "conda-base-py"
  },
  "language_info": {
   "codemirror_mode": {
    "name": "ipython",
    "version": 3
   },
   "file_extension": ".py",
   "mimetype": "text/x-python",
   "name": "python",
   "nbconvert_exporter": "python",
   "pygments_lexer": "ipython3",
   "version": "3.12.7"
  }
 },
 "nbformat": 4,
 "nbformat_minor": 5
}
