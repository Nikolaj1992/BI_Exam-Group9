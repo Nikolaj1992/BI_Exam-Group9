{
 "cells": [
  {
   "cell_type": "code",
   "execution_count": 1,
   "id": "d2b4140d-f323-4f7b-8e84-71604c51ea6a",
   "metadata": {
    "scrolled": true
   },
   "outputs": [
    {
     "name": "stdout",
     "output_type": "stream",
     "text": [
      "Requirement already satisfied: streamlit-option-menu in d:\\anaconda\\lib\\site-packages (0.4.0)\n",
      "Requirement already satisfied: streamlit>=1.36 in d:\\anaconda\\lib\\site-packages (from streamlit-option-menu) (1.37.1)\n",
      "Requirement already satisfied: altair<6,>=4.0 in d:\\anaconda\\lib\\site-packages (from streamlit>=1.36->streamlit-option-menu) (5.0.1)\n",
      "Requirement already satisfied: blinker<2,>=1.0.0 in d:\\anaconda\\lib\\site-packages (from streamlit>=1.36->streamlit-option-menu) (1.6.2)\n",
      "Requirement already satisfied: cachetools<6,>=4.0 in d:\\anaconda\\lib\\site-packages (from streamlit>=1.36->streamlit-option-menu) (5.3.3)\n",
      "Requirement already satisfied: click<9,>=7.0 in d:\\anaconda\\lib\\site-packages (from streamlit>=1.36->streamlit-option-menu) (8.1.7)\n",
      "Requirement already satisfied: numpy<3,>=1.20 in d:\\anaconda\\lib\\site-packages (from streamlit>=1.36->streamlit-option-menu) (1.26.4)\n",
      "Requirement already satisfied: packaging<25,>=20 in d:\\anaconda\\lib\\site-packages (from streamlit>=1.36->streamlit-option-menu) (24.1)\n",
      "Requirement already satisfied: pandas<3,>=1.3.0 in d:\\anaconda\\lib\\site-packages (from streamlit>=1.36->streamlit-option-menu) (2.2.2)\n",
      "Requirement already satisfied: pillow<11,>=7.1.0 in d:\\anaconda\\lib\\site-packages (from streamlit>=1.36->streamlit-option-menu) (10.4.0)\n",
      "Requirement already satisfied: protobuf<6,>=3.20 in d:\\anaconda\\lib\\site-packages (from streamlit>=1.36->streamlit-option-menu) (4.25.3)\n",
      "Requirement already satisfied: pyarrow>=7.0 in d:\\anaconda\\lib\\site-packages (from streamlit>=1.36->streamlit-option-menu) (16.1.0)\n",
      "Requirement already satisfied: requests<3,>=2.27 in d:\\anaconda\\lib\\site-packages (from streamlit>=1.36->streamlit-option-menu) (2.32.3)\n",
      "Requirement already satisfied: rich<14,>=10.14.0 in d:\\anaconda\\lib\\site-packages (from streamlit>=1.36->streamlit-option-menu) (13.7.1)\n",
      "Requirement already satisfied: tenacity<9,>=8.1.0 in d:\\anaconda\\lib\\site-packages (from streamlit>=1.36->streamlit-option-menu) (8.2.3)\n",
      "Requirement already satisfied: toml<2,>=0.10.1 in d:\\anaconda\\lib\\site-packages (from streamlit>=1.36->streamlit-option-menu) (0.10.2)\n",
      "Requirement already satisfied: typing-extensions<5,>=4.3.0 in d:\\anaconda\\lib\\site-packages (from streamlit>=1.36->streamlit-option-menu) (4.13.2)\n",
      "Requirement already satisfied: gitpython!=3.1.19,<4,>=3.0.7 in d:\\anaconda\\lib\\site-packages (from streamlit>=1.36->streamlit-option-menu) (3.1.43)\n",
      "Requirement already satisfied: pydeck<1,>=0.8.0b4 in d:\\anaconda\\lib\\site-packages (from streamlit>=1.36->streamlit-option-menu) (0.8.0)\n",
      "Requirement already satisfied: tornado<7,>=6.0.3 in d:\\anaconda\\lib\\site-packages (from streamlit>=1.36->streamlit-option-menu) (6.4.1)\n",
      "Requirement already satisfied: watchdog<5,>=2.1.5 in d:\\anaconda\\lib\\site-packages (from streamlit>=1.36->streamlit-option-menu) (4.0.1)\n",
      "Requirement already satisfied: jinja2 in d:\\anaconda\\lib\\site-packages (from altair<6,>=4.0->streamlit>=1.36->streamlit-option-menu) (3.1.4)\n",
      "Requirement already satisfied: jsonschema>=3.0 in d:\\anaconda\\lib\\site-packages (from altair<6,>=4.0->streamlit>=1.36->streamlit-option-menu) (4.23.0)\n",
      "Requirement already satisfied: toolz in d:\\anaconda\\lib\\site-packages (from altair<6,>=4.0->streamlit>=1.36->streamlit-option-menu) (0.12.0)\n",
      "Requirement already satisfied: colorama in d:\\anaconda\\lib\\site-packages (from click<9,>=7.0->streamlit>=1.36->streamlit-option-menu) (0.4.6)\n",
      "Requirement already satisfied: gitdb<5,>=4.0.1 in d:\\anaconda\\lib\\site-packages (from gitpython!=3.1.19,<4,>=3.0.7->streamlit>=1.36->streamlit-option-menu) (4.0.7)\n",
      "Requirement already satisfied: python-dateutil>=2.8.2 in d:\\anaconda\\lib\\site-packages (from pandas<3,>=1.3.0->streamlit>=1.36->streamlit-option-menu) (2.9.0.post0)\n",
      "Requirement already satisfied: pytz>=2020.1 in d:\\anaconda\\lib\\site-packages (from pandas<3,>=1.3.0->streamlit>=1.36->streamlit-option-menu) (2024.1)\n",
      "Requirement already satisfied: tzdata>=2022.7 in d:\\anaconda\\lib\\site-packages (from pandas<3,>=1.3.0->streamlit>=1.36->streamlit-option-menu) (2023.3)\n",
      "Requirement already satisfied: charset-normalizer<4,>=2 in d:\\anaconda\\lib\\site-packages (from requests<3,>=2.27->streamlit>=1.36->streamlit-option-menu) (3.3.2)\n",
      "Requirement already satisfied: idna<4,>=2.5 in d:\\anaconda\\lib\\site-packages (from requests<3,>=2.27->streamlit>=1.36->streamlit-option-menu) (3.7)\n",
      "Requirement already satisfied: urllib3<3,>=1.21.1 in d:\\anaconda\\lib\\site-packages (from requests<3,>=2.27->streamlit>=1.36->streamlit-option-menu) (2.2.3)\n",
      "Requirement already satisfied: certifi>=2017.4.17 in d:\\anaconda\\lib\\site-packages (from requests<3,>=2.27->streamlit>=1.36->streamlit-option-menu) (2025.4.26)\n",
      "Requirement already satisfied: markdown-it-py>=2.2.0 in d:\\anaconda\\lib\\site-packages (from rich<14,>=10.14.0->streamlit>=1.36->streamlit-option-menu) (2.2.0)\n",
      "Requirement already satisfied: pygments<3.0.0,>=2.13.0 in d:\\anaconda\\lib\\site-packages (from rich<14,>=10.14.0->streamlit>=1.36->streamlit-option-menu) (2.15.1)\n",
      "Requirement already satisfied: smmap<5,>=3.0.1 in d:\\anaconda\\lib\\site-packages (from gitdb<5,>=4.0.1->gitpython!=3.1.19,<4,>=3.0.7->streamlit>=1.36->streamlit-option-menu) (4.0.0)\n",
      "Requirement already satisfied: MarkupSafe>=2.0 in d:\\anaconda\\lib\\site-packages (from jinja2->altair<6,>=4.0->streamlit>=1.36->streamlit-option-menu) (2.1.3)\n",
      "Requirement already satisfied: attrs>=22.2.0 in d:\\anaconda\\lib\\site-packages (from jsonschema>=3.0->altair<6,>=4.0->streamlit>=1.36->streamlit-option-menu) (23.1.0)\n",
      "Requirement already satisfied: jsonschema-specifications>=2023.03.6 in d:\\anaconda\\lib\\site-packages (from jsonschema>=3.0->altair<6,>=4.0->streamlit>=1.36->streamlit-option-menu) (2023.7.1)\n",
      "Requirement already satisfied: referencing>=0.28.4 in d:\\anaconda\\lib\\site-packages (from jsonschema>=3.0->altair<6,>=4.0->streamlit>=1.36->streamlit-option-menu) (0.30.2)\n",
      "Requirement already satisfied: rpds-py>=0.7.1 in d:\\anaconda\\lib\\site-packages (from jsonschema>=3.0->altair<6,>=4.0->streamlit>=1.36->streamlit-option-menu) (0.10.6)\n",
      "Requirement already satisfied: mdurl~=0.1 in d:\\anaconda\\lib\\site-packages (from markdown-it-py>=2.2.0->rich<14,>=10.14.0->streamlit>=1.36->streamlit-option-menu) (0.1.0)\n",
      "Requirement already satisfied: six>=1.5 in d:\\anaconda\\lib\\site-packages (from python-dateutil>=2.8.2->pandas<3,>=1.3.0->streamlit>=1.36->streamlit-option-menu) (1.16.0)\n"
     ]
    }
   ],
   "source": [
    "!pip install streamlit-option-menu"
   ]
  },
  {
   "cell_type": "code",
   "execution_count": 2,
   "id": "474a4731-b253-4144-9ca4-554a360a7ca6",
   "metadata": {},
   "outputs": [
    {
     "name": "stdout",
     "output_type": "stream",
     "text": [
      "Requirement already satisfied: streamlit_folium in d:\\anaconda\\lib\\site-packages (0.25.0)\n",
      "Requirement already satisfied: streamlit>=1.35.0 in d:\\anaconda\\lib\\site-packages (from streamlit_folium) (1.37.1)\n",
      "Requirement already satisfied: folium!=0.15.0,>=0.13 in d:\\anaconda\\lib\\site-packages (from streamlit_folium) (0.19.5)\n",
      "Requirement already satisfied: jinja2 in d:\\anaconda\\lib\\site-packages (from streamlit_folium) (3.1.4)\n",
      "Requirement already satisfied: branca in d:\\anaconda\\lib\\site-packages (from streamlit_folium) (0.8.1)\n",
      "Requirement already satisfied: numpy in d:\\anaconda\\lib\\site-packages (from folium!=0.15.0,>=0.13->streamlit_folium) (1.26.4)\n",
      "Requirement already satisfied: requests in d:\\anaconda\\lib\\site-packages (from folium!=0.15.0,>=0.13->streamlit_folium) (2.32.3)\n",
      "Requirement already satisfied: xyzservices in d:\\anaconda\\lib\\site-packages (from folium!=0.15.0,>=0.13->streamlit_folium) (2022.9.0)\n",
      "Requirement already satisfied: MarkupSafe>=2.0 in d:\\anaconda\\lib\\site-packages (from jinja2->streamlit_folium) (2.1.3)\n",
      "Requirement already satisfied: altair<6,>=4.0 in d:\\anaconda\\lib\\site-packages (from streamlit>=1.35.0->streamlit_folium) (5.0.1)\n",
      "Requirement already satisfied: blinker<2,>=1.0.0 in d:\\anaconda\\lib\\site-packages (from streamlit>=1.35.0->streamlit_folium) (1.6.2)\n",
      "Requirement already satisfied: cachetools<6,>=4.0 in d:\\anaconda\\lib\\site-packages (from streamlit>=1.35.0->streamlit_folium) (5.3.3)\n",
      "Requirement already satisfied: click<9,>=7.0 in d:\\anaconda\\lib\\site-packages (from streamlit>=1.35.0->streamlit_folium) (8.1.7)\n",
      "Requirement already satisfied: packaging<25,>=20 in d:\\anaconda\\lib\\site-packages (from streamlit>=1.35.0->streamlit_folium) (24.1)\n",
      "Requirement already satisfied: pandas<3,>=1.3.0 in d:\\anaconda\\lib\\site-packages (from streamlit>=1.35.0->streamlit_folium) (2.2.2)\n",
      "Requirement already satisfied: pillow<11,>=7.1.0 in d:\\anaconda\\lib\\site-packages (from streamlit>=1.35.0->streamlit_folium) (10.4.0)\n",
      "Requirement already satisfied: protobuf<6,>=3.20 in d:\\anaconda\\lib\\site-packages (from streamlit>=1.35.0->streamlit_folium) (4.25.3)\n",
      "Requirement already satisfied: pyarrow>=7.0 in d:\\anaconda\\lib\\site-packages (from streamlit>=1.35.0->streamlit_folium) (16.1.0)\n",
      "Requirement already satisfied: rich<14,>=10.14.0 in d:\\anaconda\\lib\\site-packages (from streamlit>=1.35.0->streamlit_folium) (13.7.1)\n",
      "Requirement already satisfied: tenacity<9,>=8.1.0 in d:\\anaconda\\lib\\site-packages (from streamlit>=1.35.0->streamlit_folium) (8.2.3)\n",
      "Requirement already satisfied: toml<2,>=0.10.1 in d:\\anaconda\\lib\\site-packages (from streamlit>=1.35.0->streamlit_folium) (0.10.2)\n",
      "Requirement already satisfied: typing-extensions<5,>=4.3.0 in d:\\anaconda\\lib\\site-packages (from streamlit>=1.35.0->streamlit_folium) (4.13.2)\n",
      "Requirement already satisfied: gitpython!=3.1.19,<4,>=3.0.7 in d:\\anaconda\\lib\\site-packages (from streamlit>=1.35.0->streamlit_folium) (3.1.43)\n",
      "Requirement already satisfied: pydeck<1,>=0.8.0b4 in d:\\anaconda\\lib\\site-packages (from streamlit>=1.35.0->streamlit_folium) (0.8.0)\n",
      "Requirement already satisfied: tornado<7,>=6.0.3 in d:\\anaconda\\lib\\site-packages (from streamlit>=1.35.0->streamlit_folium) (6.4.1)\n",
      "Requirement already satisfied: watchdog<5,>=2.1.5 in d:\\anaconda\\lib\\site-packages (from streamlit>=1.35.0->streamlit_folium) (4.0.1)\n",
      "Requirement already satisfied: jsonschema>=3.0 in d:\\anaconda\\lib\\site-packages (from altair<6,>=4.0->streamlit>=1.35.0->streamlit_folium) (4.23.0)\n",
      "Requirement already satisfied: toolz in d:\\anaconda\\lib\\site-packages (from altair<6,>=4.0->streamlit>=1.35.0->streamlit_folium) (0.12.0)\n",
      "Requirement already satisfied: colorama in d:\\anaconda\\lib\\site-packages (from click<9,>=7.0->streamlit>=1.35.0->streamlit_folium) (0.4.6)\n",
      "Requirement already satisfied: gitdb<5,>=4.0.1 in d:\\anaconda\\lib\\site-packages (from gitpython!=3.1.19,<4,>=3.0.7->streamlit>=1.35.0->streamlit_folium) (4.0.7)\n",
      "Requirement already satisfied: python-dateutil>=2.8.2 in d:\\anaconda\\lib\\site-packages (from pandas<3,>=1.3.0->streamlit>=1.35.0->streamlit_folium) (2.9.0.post0)\n",
      "Requirement already satisfied: pytz>=2020.1 in d:\\anaconda\\lib\\site-packages (from pandas<3,>=1.3.0->streamlit>=1.35.0->streamlit_folium) (2024.1)\n",
      "Requirement already satisfied: tzdata>=2022.7 in d:\\anaconda\\lib\\site-packages (from pandas<3,>=1.3.0->streamlit>=1.35.0->streamlit_folium) (2023.3)\n",
      "Requirement already satisfied: charset-normalizer<4,>=2 in d:\\anaconda\\lib\\site-packages (from requests->folium!=0.15.0,>=0.13->streamlit_folium) (3.3.2)\n",
      "Requirement already satisfied: idna<4,>=2.5 in d:\\anaconda\\lib\\site-packages (from requests->folium!=0.15.0,>=0.13->streamlit_folium) (3.7)\n",
      "Requirement already satisfied: urllib3<3,>=1.21.1 in d:\\anaconda\\lib\\site-packages (from requests->folium!=0.15.0,>=0.13->streamlit_folium) (2.2.3)\n",
      "Requirement already satisfied: certifi>=2017.4.17 in d:\\anaconda\\lib\\site-packages (from requests->folium!=0.15.0,>=0.13->streamlit_folium) (2025.4.26)\n",
      "Requirement already satisfied: markdown-it-py>=2.2.0 in d:\\anaconda\\lib\\site-packages (from rich<14,>=10.14.0->streamlit>=1.35.0->streamlit_folium) (2.2.0)\n",
      "Requirement already satisfied: pygments<3.0.0,>=2.13.0 in d:\\anaconda\\lib\\site-packages (from rich<14,>=10.14.0->streamlit>=1.35.0->streamlit_folium) (2.15.1)\n",
      "Requirement already satisfied: smmap<5,>=3.0.1 in d:\\anaconda\\lib\\site-packages (from gitdb<5,>=4.0.1->gitpython!=3.1.19,<4,>=3.0.7->streamlit>=1.35.0->streamlit_folium) (4.0.0)\n",
      "Requirement already satisfied: attrs>=22.2.0 in d:\\anaconda\\lib\\site-packages (from jsonschema>=3.0->altair<6,>=4.0->streamlit>=1.35.0->streamlit_folium) (23.1.0)\n",
      "Requirement already satisfied: jsonschema-specifications>=2023.03.6 in d:\\anaconda\\lib\\site-packages (from jsonschema>=3.0->altair<6,>=4.0->streamlit>=1.35.0->streamlit_folium) (2023.7.1)\n",
      "Requirement already satisfied: referencing>=0.28.4 in d:\\anaconda\\lib\\site-packages (from jsonschema>=3.0->altair<6,>=4.0->streamlit>=1.35.0->streamlit_folium) (0.30.2)\n",
      "Requirement already satisfied: rpds-py>=0.7.1 in d:\\anaconda\\lib\\site-packages (from jsonschema>=3.0->altair<6,>=4.0->streamlit>=1.35.0->streamlit_folium) (0.10.6)\n",
      "Requirement already satisfied: mdurl~=0.1 in d:\\anaconda\\lib\\site-packages (from markdown-it-py>=2.2.0->rich<14,>=10.14.0->streamlit>=1.35.0->streamlit_folium) (0.1.0)\n",
      "Requirement already satisfied: six>=1.5 in d:\\anaconda\\lib\\site-packages (from python-dateutil>=2.8.2->pandas<3,>=1.3.0->streamlit>=1.35.0->streamlit_folium) (1.16.0)\n"
     ]
    }
   ],
   "source": [
    "!pip install streamlit_folium"
   ]
  },
  {
   "cell_type": "code",
   "execution_count": 3,
   "id": "179d7e69-9ffc-44c3-8c8b-d5d75cba2086",
   "metadata": {},
   "outputs": [],
   "source": [
    "# import\n",
    "import pandas as pd\n",
    "import numpy as np\n",
    "\n",
    "import seaborn as sns\n",
    "import matplotlib.pyplot as plt\n",
    "%matplotlib inline\n",
    "from sklearn.pipeline import Pipeline\n",
    "from sklearn.impute import SimpleImputer\n",
    "from sklearn.model_selection import train_test_split\n",
    "\n",
    "from sklearn.linear_model import LinearRegression\n",
    "import sklearn.metrics as sm\n",
    "from sklearn.metrics import r2_score"
   ]
  },
  {
   "cell_type": "code",
   "execution_count": 4,
   "id": "67b85810-3d16-4196-8399-a4d98e816152",
   "metadata": {},
   "outputs": [],
   "source": [
    "finalists_clean_df = pd.read_csv('Data/finalists_cleaned.csv')"
   ]
  },
  {
   "cell_type": "code",
   "execution_count": 5,
   "id": "b5d7f203-0fee-4d88-8e7b-e2a281e3e3d4",
   "metadata": {},
   "outputs": [
    {
     "name": "stdout",
     "output_type": "stream",
     "text": [
      "   year  final_draw_position      country   style  final_televote_points  \\\n",
      "0  2023                   20       Norway     Pop                  216.0   \n",
      "1  2023                    5       Serbia     Pop                   16.0   \n",
      "2  2023                    2     Portugal     Pop                   16.0   \n",
      "3  2023                   25      Croatia     Pop                  112.0   \n",
      "4  2023                    3  Switzerland  Ballad                   31.0   \n",
      "\n",
      "   final_jury_points  final_televote_votes  final_jury_votes  final_place  \\\n",
      "0               52.0                  36.0              11.0          5.0   \n",
      "1               14.0                   4.0               6.0         24.0   \n",
      "2               43.0                   3.0               9.0         23.0   \n",
      "3               11.0                  20.0               2.0         13.0   \n",
      "4               61.0                  10.0              15.0         20.0   \n",
      "\n",
      "   final_total_points  \n",
      "0               268.0  \n",
      "1                30.0  \n",
      "2                59.0  \n",
      "3               123.0  \n",
      "4                92.0  \n"
     ]
    }
   ],
   "source": [
    "# Display the first few rows to verify\n",
    "print(finalists_clean_df.head())"
   ]
  },
  {
   "cell_type": "code",
   "execution_count": 6,
   "id": "33751823-3827-4c66-a7a9-f7ca946a1edf",
   "metadata": {},
   "outputs": [
    {
     "data": {
      "text/plain": [
       "(358, 10)"
      ]
     },
     "execution_count": 6,
     "metadata": {},
     "output_type": "execute_result"
    }
   ],
   "source": [
    "finalists_clean_df.shape"
   ]
  },
  {
   "cell_type": "code",
   "execution_count": 7,
   "id": "8e9851ca-8b97-4241-9481-83de3de32fc3",
   "metadata": {},
   "outputs": [
    {
     "name": "stdout",
     "output_type": "stream",
     "text": [
      "<class 'pandas.core.frame.DataFrame'>\n",
      "RangeIndex: 358 entries, 0 to 357\n",
      "Data columns (total 10 columns):\n",
      " #   Column                 Non-Null Count  Dtype  \n",
      "---  ------                 --------------  -----  \n",
      " 0   year                   358 non-null    int64  \n",
      " 1   final_draw_position    358 non-null    int64  \n",
      " 2   country                358 non-null    object \n",
      " 3   style                  358 non-null    object \n",
      " 4   final_televote_points  326 non-null    float64\n",
      " 5   final_jury_points      326 non-null    float64\n",
      " 6   final_televote_votes   230 non-null    float64\n",
      " 7   final_jury_votes       230 non-null    float64\n",
      " 8   final_place            358 non-null    float64\n",
      " 9   final_total_points     358 non-null    float64\n",
      "dtypes: float64(6), int64(2), object(2)\n",
      "memory usage: 28.1+ KB\n"
     ]
    }
   ],
   "source": [
    "finalists_clean_df.info()"
   ]
  },
  {
   "cell_type": "code",
   "execution_count": 8,
   "id": "30959df8-4480-439c-b66e-a602c753fa9c",
   "metadata": {},
   "outputs": [],
   "source": [
    "y = finalists_clean_df['final_place']\n",
    "\n",
    "# Features: drop target and categorical variables\n",
    "X = finalists_clean_df.drop(columns=['final_place', 'country', 'style','year', 'final_total_points'])\n",
    "\n",
    "# Define numeric feature names (all remaining)\n",
    "numeric_features = X.columns.tolist()\n"
   ]
  },
  {
   "cell_type": "code",
   "execution_count": 9,
   "id": "9c285ec3-1ccb-4832-b221-4ef4f1ea1d04",
   "metadata": {
    "scrolled": true
   },
   "outputs": [
    {
     "data": {
      "text/plain": [
       "0     5.0\n",
       "1    24.0\n",
       "2    23.0\n",
       "3    13.0\n",
       "4    20.0\n",
       "Name: final_place, dtype: float64"
      ]
     },
     "execution_count": 9,
     "metadata": {},
     "output_type": "execute_result"
    }
   ],
   "source": [
    "y.head()"
   ]
  },
  {
   "cell_type": "code",
   "execution_count": 10,
   "id": "2d6431a1-d6f3-4895-bbed-3f389b36e3d2",
   "metadata": {},
   "outputs": [],
   "source": [
    "# Split the dataset (74/26)\n",
    "X_train, X_test, y_train, y_test = train_test_split(X, y, test_size=0.26, random_state=42)\n"
   ]
  },
  {
   "cell_type": "code",
   "execution_count": 11,
   "id": "08b7dcae-e024-454a-ad70-b72284263cda",
   "metadata": {},
   "outputs": [
    {
     "name": "stdout",
     "output_type": "stream",
     "text": [
      "(264, 5)\n",
      "(264,)\n",
      "(94, 5)\n",
      "(94,)\n"
     ]
    }
   ],
   "source": [
    "print(X_train.shape)\n",
    "print(y_train.shape)\n",
    "print(X_test.shape)\n",
    "print(y_test.shape)"
   ]
  },
  {
   "cell_type": "code",
   "execution_count": null,
   "id": "03118850-15c9-4ec8-b8f3-d4e3ee987535",
   "metadata": {},
   "outputs": [],
   "source": []
  },
  {
   "cell_type": "code",
   "execution_count": 12,
   "id": "ad48e69a-f332-461e-a575-f5a578f01cff",
   "metadata": {
    "scrolled": true
   },
   "outputs": [],
   "source": [
    "model = Pipeline(steps=[\n",
    "    ('imputer', SimpleImputer(strategy='mean')),\n",
    "    ('regressor', LinearRegression())\n",
    "])"
   ]
  },
  {
   "cell_type": "code",
   "execution_count": 13,
   "id": "0e3c5a70-fbbc-4ba7-8a79-36a2ee6a73b1",
   "metadata": {},
   "outputs": [
    {
     "data": {
      "text/html": [
       "<style>#sk-container-id-1 {\n",
       "  /* Definition of color scheme common for light and dark mode */\n",
       "  --sklearn-color-text: black;\n",
       "  --sklearn-color-line: gray;\n",
       "  /* Definition of color scheme for unfitted estimators */\n",
       "  --sklearn-color-unfitted-level-0: #fff5e6;\n",
       "  --sklearn-color-unfitted-level-1: #f6e4d2;\n",
       "  --sklearn-color-unfitted-level-2: #ffe0b3;\n",
       "  --sklearn-color-unfitted-level-3: chocolate;\n",
       "  /* Definition of color scheme for fitted estimators */\n",
       "  --sklearn-color-fitted-level-0: #f0f8ff;\n",
       "  --sklearn-color-fitted-level-1: #d4ebff;\n",
       "  --sklearn-color-fitted-level-2: #b3dbfd;\n",
       "  --sklearn-color-fitted-level-3: cornflowerblue;\n",
       "\n",
       "  /* Specific color for light theme */\n",
       "  --sklearn-color-text-on-default-background: var(--sg-text-color, var(--theme-code-foreground, var(--jp-content-font-color1, black)));\n",
       "  --sklearn-color-background: var(--sg-background-color, var(--theme-background, var(--jp-layout-color0, white)));\n",
       "  --sklearn-color-border-box: var(--sg-text-color, var(--theme-code-foreground, var(--jp-content-font-color1, black)));\n",
       "  --sklearn-color-icon: #696969;\n",
       "\n",
       "  @media (prefers-color-scheme: dark) {\n",
       "    /* Redefinition of color scheme for dark theme */\n",
       "    --sklearn-color-text-on-default-background: var(--sg-text-color, var(--theme-code-foreground, var(--jp-content-font-color1, white)));\n",
       "    --sklearn-color-background: var(--sg-background-color, var(--theme-background, var(--jp-layout-color0, #111)));\n",
       "    --sklearn-color-border-box: var(--sg-text-color, var(--theme-code-foreground, var(--jp-content-font-color1, white)));\n",
       "    --sklearn-color-icon: #878787;\n",
       "  }\n",
       "}\n",
       "\n",
       "#sk-container-id-1 {\n",
       "  color: var(--sklearn-color-text);\n",
       "}\n",
       "\n",
       "#sk-container-id-1 pre {\n",
       "  padding: 0;\n",
       "}\n",
       "\n",
       "#sk-container-id-1 input.sk-hidden--visually {\n",
       "  border: 0;\n",
       "  clip: rect(1px 1px 1px 1px);\n",
       "  clip: rect(1px, 1px, 1px, 1px);\n",
       "  height: 1px;\n",
       "  margin: -1px;\n",
       "  overflow: hidden;\n",
       "  padding: 0;\n",
       "  position: absolute;\n",
       "  width: 1px;\n",
       "}\n",
       "\n",
       "#sk-container-id-1 div.sk-dashed-wrapped {\n",
       "  border: 1px dashed var(--sklearn-color-line);\n",
       "  margin: 0 0.4em 0.5em 0.4em;\n",
       "  box-sizing: border-box;\n",
       "  padding-bottom: 0.4em;\n",
       "  background-color: var(--sklearn-color-background);\n",
       "}\n",
       "\n",
       "#sk-container-id-1 div.sk-container {\n",
       "  /* jupyter's `normalize.less` sets `[hidden] { display: none; }`\n",
       "     but bootstrap.min.css set `[hidden] { display: none !important; }`\n",
       "     so we also need the `!important` here to be able to override the\n",
       "     default hidden behavior on the sphinx rendered scikit-learn.org.\n",
       "     See: https://github.com/scikit-learn/scikit-learn/issues/21755 */\n",
       "  display: inline-block !important;\n",
       "  position: relative;\n",
       "}\n",
       "\n",
       "#sk-container-id-1 div.sk-text-repr-fallback {\n",
       "  display: none;\n",
       "}\n",
       "\n",
       "div.sk-parallel-item,\n",
       "div.sk-serial,\n",
       "div.sk-item {\n",
       "  /* draw centered vertical line to link estimators */\n",
       "  background-image: linear-gradient(var(--sklearn-color-text-on-default-background), var(--sklearn-color-text-on-default-background));\n",
       "  background-size: 2px 100%;\n",
       "  background-repeat: no-repeat;\n",
       "  background-position: center center;\n",
       "}\n",
       "\n",
       "/* Parallel-specific style estimator block */\n",
       "\n",
       "#sk-container-id-1 div.sk-parallel-item::after {\n",
       "  content: \"\";\n",
       "  width: 100%;\n",
       "  border-bottom: 2px solid var(--sklearn-color-text-on-default-background);\n",
       "  flex-grow: 1;\n",
       "}\n",
       "\n",
       "#sk-container-id-1 div.sk-parallel {\n",
       "  display: flex;\n",
       "  align-items: stretch;\n",
       "  justify-content: center;\n",
       "  background-color: var(--sklearn-color-background);\n",
       "  position: relative;\n",
       "}\n",
       "\n",
       "#sk-container-id-1 div.sk-parallel-item {\n",
       "  display: flex;\n",
       "  flex-direction: column;\n",
       "}\n",
       "\n",
       "#sk-container-id-1 div.sk-parallel-item:first-child::after {\n",
       "  align-self: flex-end;\n",
       "  width: 50%;\n",
       "}\n",
       "\n",
       "#sk-container-id-1 div.sk-parallel-item:last-child::after {\n",
       "  align-self: flex-start;\n",
       "  width: 50%;\n",
       "}\n",
       "\n",
       "#sk-container-id-1 div.sk-parallel-item:only-child::after {\n",
       "  width: 0;\n",
       "}\n",
       "\n",
       "/* Serial-specific style estimator block */\n",
       "\n",
       "#sk-container-id-1 div.sk-serial {\n",
       "  display: flex;\n",
       "  flex-direction: column;\n",
       "  align-items: center;\n",
       "  background-color: var(--sklearn-color-background);\n",
       "  padding-right: 1em;\n",
       "  padding-left: 1em;\n",
       "}\n",
       "\n",
       "\n",
       "/* Toggleable style: style used for estimator/Pipeline/ColumnTransformer box that is\n",
       "clickable and can be expanded/collapsed.\n",
       "- Pipeline and ColumnTransformer use this feature and define the default style\n",
       "- Estimators will overwrite some part of the style using the `sk-estimator` class\n",
       "*/\n",
       "\n",
       "/* Pipeline and ColumnTransformer style (default) */\n",
       "\n",
       "#sk-container-id-1 div.sk-toggleable {\n",
       "  /* Default theme specific background. It is overwritten whether we have a\n",
       "  specific estimator or a Pipeline/ColumnTransformer */\n",
       "  background-color: var(--sklearn-color-background);\n",
       "}\n",
       "\n",
       "/* Toggleable label */\n",
       "#sk-container-id-1 label.sk-toggleable__label {\n",
       "  cursor: pointer;\n",
       "  display: block;\n",
       "  width: 100%;\n",
       "  margin-bottom: 0;\n",
       "  padding: 0.5em;\n",
       "  box-sizing: border-box;\n",
       "  text-align: center;\n",
       "}\n",
       "\n",
       "#sk-container-id-1 label.sk-toggleable__label-arrow:before {\n",
       "  /* Arrow on the left of the label */\n",
       "  content: \"▸\";\n",
       "  float: left;\n",
       "  margin-right: 0.25em;\n",
       "  color: var(--sklearn-color-icon);\n",
       "}\n",
       "\n",
       "#sk-container-id-1 label.sk-toggleable__label-arrow:hover:before {\n",
       "  color: var(--sklearn-color-text);\n",
       "}\n",
       "\n",
       "/* Toggleable content - dropdown */\n",
       "\n",
       "#sk-container-id-1 div.sk-toggleable__content {\n",
       "  max-height: 0;\n",
       "  max-width: 0;\n",
       "  overflow: hidden;\n",
       "  text-align: left;\n",
       "  /* unfitted */\n",
       "  background-color: var(--sklearn-color-unfitted-level-0);\n",
       "}\n",
       "\n",
       "#sk-container-id-1 div.sk-toggleable__content.fitted {\n",
       "  /* fitted */\n",
       "  background-color: var(--sklearn-color-fitted-level-0);\n",
       "}\n",
       "\n",
       "#sk-container-id-1 div.sk-toggleable__content pre {\n",
       "  margin: 0.2em;\n",
       "  border-radius: 0.25em;\n",
       "  color: var(--sklearn-color-text);\n",
       "  /* unfitted */\n",
       "  background-color: var(--sklearn-color-unfitted-level-0);\n",
       "}\n",
       "\n",
       "#sk-container-id-1 div.sk-toggleable__content.fitted pre {\n",
       "  /* unfitted */\n",
       "  background-color: var(--sklearn-color-fitted-level-0);\n",
       "}\n",
       "\n",
       "#sk-container-id-1 input.sk-toggleable__control:checked~div.sk-toggleable__content {\n",
       "  /* Expand drop-down */\n",
       "  max-height: 200px;\n",
       "  max-width: 100%;\n",
       "  overflow: auto;\n",
       "}\n",
       "\n",
       "#sk-container-id-1 input.sk-toggleable__control:checked~label.sk-toggleable__label-arrow:before {\n",
       "  content: \"▾\";\n",
       "}\n",
       "\n",
       "/* Pipeline/ColumnTransformer-specific style */\n",
       "\n",
       "#sk-container-id-1 div.sk-label input.sk-toggleable__control:checked~label.sk-toggleable__label {\n",
       "  color: var(--sklearn-color-text);\n",
       "  background-color: var(--sklearn-color-unfitted-level-2);\n",
       "}\n",
       "\n",
       "#sk-container-id-1 div.sk-label.fitted input.sk-toggleable__control:checked~label.sk-toggleable__label {\n",
       "  background-color: var(--sklearn-color-fitted-level-2);\n",
       "}\n",
       "\n",
       "/* Estimator-specific style */\n",
       "\n",
       "/* Colorize estimator box */\n",
       "#sk-container-id-1 div.sk-estimator input.sk-toggleable__control:checked~label.sk-toggleable__label {\n",
       "  /* unfitted */\n",
       "  background-color: var(--sklearn-color-unfitted-level-2);\n",
       "}\n",
       "\n",
       "#sk-container-id-1 div.sk-estimator.fitted input.sk-toggleable__control:checked~label.sk-toggleable__label {\n",
       "  /* fitted */\n",
       "  background-color: var(--sklearn-color-fitted-level-2);\n",
       "}\n",
       "\n",
       "#sk-container-id-1 div.sk-label label.sk-toggleable__label,\n",
       "#sk-container-id-1 div.sk-label label {\n",
       "  /* The background is the default theme color */\n",
       "  color: var(--sklearn-color-text-on-default-background);\n",
       "}\n",
       "\n",
       "/* On hover, darken the color of the background */\n",
       "#sk-container-id-1 div.sk-label:hover label.sk-toggleable__label {\n",
       "  color: var(--sklearn-color-text);\n",
       "  background-color: var(--sklearn-color-unfitted-level-2);\n",
       "}\n",
       "\n",
       "/* Label box, darken color on hover, fitted */\n",
       "#sk-container-id-1 div.sk-label.fitted:hover label.sk-toggleable__label.fitted {\n",
       "  color: var(--sklearn-color-text);\n",
       "  background-color: var(--sklearn-color-fitted-level-2);\n",
       "}\n",
       "\n",
       "/* Estimator label */\n",
       "\n",
       "#sk-container-id-1 div.sk-label label {\n",
       "  font-family: monospace;\n",
       "  font-weight: bold;\n",
       "  display: inline-block;\n",
       "  line-height: 1.2em;\n",
       "}\n",
       "\n",
       "#sk-container-id-1 div.sk-label-container {\n",
       "  text-align: center;\n",
       "}\n",
       "\n",
       "/* Estimator-specific */\n",
       "#sk-container-id-1 div.sk-estimator {\n",
       "  font-family: monospace;\n",
       "  border: 1px dotted var(--sklearn-color-border-box);\n",
       "  border-radius: 0.25em;\n",
       "  box-sizing: border-box;\n",
       "  margin-bottom: 0.5em;\n",
       "  /* unfitted */\n",
       "  background-color: var(--sklearn-color-unfitted-level-0);\n",
       "}\n",
       "\n",
       "#sk-container-id-1 div.sk-estimator.fitted {\n",
       "  /* fitted */\n",
       "  background-color: var(--sklearn-color-fitted-level-0);\n",
       "}\n",
       "\n",
       "/* on hover */\n",
       "#sk-container-id-1 div.sk-estimator:hover {\n",
       "  /* unfitted */\n",
       "  background-color: var(--sklearn-color-unfitted-level-2);\n",
       "}\n",
       "\n",
       "#sk-container-id-1 div.sk-estimator.fitted:hover {\n",
       "  /* fitted */\n",
       "  background-color: var(--sklearn-color-fitted-level-2);\n",
       "}\n",
       "\n",
       "/* Specification for estimator info (e.g. \"i\" and \"?\") */\n",
       "\n",
       "/* Common style for \"i\" and \"?\" */\n",
       "\n",
       ".sk-estimator-doc-link,\n",
       "a:link.sk-estimator-doc-link,\n",
       "a:visited.sk-estimator-doc-link {\n",
       "  float: right;\n",
       "  font-size: smaller;\n",
       "  line-height: 1em;\n",
       "  font-family: monospace;\n",
       "  background-color: var(--sklearn-color-background);\n",
       "  border-radius: 1em;\n",
       "  height: 1em;\n",
       "  width: 1em;\n",
       "  text-decoration: none !important;\n",
       "  margin-left: 1ex;\n",
       "  /* unfitted */\n",
       "  border: var(--sklearn-color-unfitted-level-1) 1pt solid;\n",
       "  color: var(--sklearn-color-unfitted-level-1);\n",
       "}\n",
       "\n",
       ".sk-estimator-doc-link.fitted,\n",
       "a:link.sk-estimator-doc-link.fitted,\n",
       "a:visited.sk-estimator-doc-link.fitted {\n",
       "  /* fitted */\n",
       "  border: var(--sklearn-color-fitted-level-1) 1pt solid;\n",
       "  color: var(--sklearn-color-fitted-level-1);\n",
       "}\n",
       "\n",
       "/* On hover */\n",
       "div.sk-estimator:hover .sk-estimator-doc-link:hover,\n",
       ".sk-estimator-doc-link:hover,\n",
       "div.sk-label-container:hover .sk-estimator-doc-link:hover,\n",
       ".sk-estimator-doc-link:hover {\n",
       "  /* unfitted */\n",
       "  background-color: var(--sklearn-color-unfitted-level-3);\n",
       "  color: var(--sklearn-color-background);\n",
       "  text-decoration: none;\n",
       "}\n",
       "\n",
       "div.sk-estimator.fitted:hover .sk-estimator-doc-link.fitted:hover,\n",
       ".sk-estimator-doc-link.fitted:hover,\n",
       "div.sk-label-container:hover .sk-estimator-doc-link.fitted:hover,\n",
       ".sk-estimator-doc-link.fitted:hover {\n",
       "  /* fitted */\n",
       "  background-color: var(--sklearn-color-fitted-level-3);\n",
       "  color: var(--sklearn-color-background);\n",
       "  text-decoration: none;\n",
       "}\n",
       "\n",
       "/* Span, style for the box shown on hovering the info icon */\n",
       ".sk-estimator-doc-link span {\n",
       "  display: none;\n",
       "  z-index: 9999;\n",
       "  position: relative;\n",
       "  font-weight: normal;\n",
       "  right: .2ex;\n",
       "  padding: .5ex;\n",
       "  margin: .5ex;\n",
       "  width: min-content;\n",
       "  min-width: 20ex;\n",
       "  max-width: 50ex;\n",
       "  color: var(--sklearn-color-text);\n",
       "  box-shadow: 2pt 2pt 4pt #999;\n",
       "  /* unfitted */\n",
       "  background: var(--sklearn-color-unfitted-level-0);\n",
       "  border: .5pt solid var(--sklearn-color-unfitted-level-3);\n",
       "}\n",
       "\n",
       ".sk-estimator-doc-link.fitted span {\n",
       "  /* fitted */\n",
       "  background: var(--sklearn-color-fitted-level-0);\n",
       "  border: var(--sklearn-color-fitted-level-3);\n",
       "}\n",
       "\n",
       ".sk-estimator-doc-link:hover span {\n",
       "  display: block;\n",
       "}\n",
       "\n",
       "/* \"?\"-specific style due to the `<a>` HTML tag */\n",
       "\n",
       "#sk-container-id-1 a.estimator_doc_link {\n",
       "  float: right;\n",
       "  font-size: 1rem;\n",
       "  line-height: 1em;\n",
       "  font-family: monospace;\n",
       "  background-color: var(--sklearn-color-background);\n",
       "  border-radius: 1rem;\n",
       "  height: 1rem;\n",
       "  width: 1rem;\n",
       "  text-decoration: none;\n",
       "  /* unfitted */\n",
       "  color: var(--sklearn-color-unfitted-level-1);\n",
       "  border: var(--sklearn-color-unfitted-level-1) 1pt solid;\n",
       "}\n",
       "\n",
       "#sk-container-id-1 a.estimator_doc_link.fitted {\n",
       "  /* fitted */\n",
       "  border: var(--sklearn-color-fitted-level-1) 1pt solid;\n",
       "  color: var(--sklearn-color-fitted-level-1);\n",
       "}\n",
       "\n",
       "/* On hover */\n",
       "#sk-container-id-1 a.estimator_doc_link:hover {\n",
       "  /* unfitted */\n",
       "  background-color: var(--sklearn-color-unfitted-level-3);\n",
       "  color: var(--sklearn-color-background);\n",
       "  text-decoration: none;\n",
       "}\n",
       "\n",
       "#sk-container-id-1 a.estimator_doc_link.fitted:hover {\n",
       "  /* fitted */\n",
       "  background-color: var(--sklearn-color-fitted-level-3);\n",
       "}\n",
       "</style><div id=\"sk-container-id-1\" class=\"sk-top-container\"><div class=\"sk-text-repr-fallback\"><pre>Pipeline(steps=[(&#x27;imputer&#x27;, SimpleImputer()),\n",
       "                (&#x27;regressor&#x27;, LinearRegression())])</pre><b>In a Jupyter environment, please rerun this cell to show the HTML representation or trust the notebook. <br />On GitHub, the HTML representation is unable to render, please try loading this page with nbviewer.org.</b></div><div class=\"sk-container\" hidden><div class=\"sk-item sk-dashed-wrapped\"><div class=\"sk-label-container\"><div class=\"sk-label fitted sk-toggleable\"><input class=\"sk-toggleable__control sk-hidden--visually\" id=\"sk-estimator-id-1\" type=\"checkbox\" ><label for=\"sk-estimator-id-1\" class=\"sk-toggleable__label fitted sk-toggleable__label-arrow fitted\">&nbsp;&nbsp;Pipeline<a class=\"sk-estimator-doc-link fitted\" rel=\"noreferrer\" target=\"_blank\" href=\"https://scikit-learn.org/1.5/modules/generated/sklearn.pipeline.Pipeline.html\">?<span>Documentation for Pipeline</span></a><span class=\"sk-estimator-doc-link fitted\">i<span>Fitted</span></span></label><div class=\"sk-toggleable__content fitted\"><pre>Pipeline(steps=[(&#x27;imputer&#x27;, SimpleImputer()),\n",
       "                (&#x27;regressor&#x27;, LinearRegression())])</pre></div> </div></div><div class=\"sk-serial\"><div class=\"sk-item\"><div class=\"sk-estimator fitted sk-toggleable\"><input class=\"sk-toggleable__control sk-hidden--visually\" id=\"sk-estimator-id-2\" type=\"checkbox\" ><label for=\"sk-estimator-id-2\" class=\"sk-toggleable__label fitted sk-toggleable__label-arrow fitted\">&nbsp;SimpleImputer<a class=\"sk-estimator-doc-link fitted\" rel=\"noreferrer\" target=\"_blank\" href=\"https://scikit-learn.org/1.5/modules/generated/sklearn.impute.SimpleImputer.html\">?<span>Documentation for SimpleImputer</span></a></label><div class=\"sk-toggleable__content fitted\"><pre>SimpleImputer()</pre></div> </div></div><div class=\"sk-item\"><div class=\"sk-estimator fitted sk-toggleable\"><input class=\"sk-toggleable__control sk-hidden--visually\" id=\"sk-estimator-id-3\" type=\"checkbox\" ><label for=\"sk-estimator-id-3\" class=\"sk-toggleable__label fitted sk-toggleable__label-arrow fitted\">&nbsp;LinearRegression<a class=\"sk-estimator-doc-link fitted\" rel=\"noreferrer\" target=\"_blank\" href=\"https://scikit-learn.org/1.5/modules/generated/sklearn.linear_model.LinearRegression.html\">?<span>Documentation for LinearRegression</span></a></label><div class=\"sk-toggleable__content fitted\"><pre>LinearRegression()</pre></div> </div></div></div></div></div></div>"
      ],
      "text/plain": [
       "Pipeline(steps=[('imputer', SimpleImputer()),\n",
       "                ('regressor', LinearRegression())])"
      ]
     },
     "execution_count": 13,
     "metadata": {},
     "output_type": "execute_result"
    }
   ],
   "source": [
    "# Fit and predict\n",
    "model.fit(X_train, y_train)\n"
   ]
  },
  {
   "cell_type": "code",
   "execution_count": 14,
   "id": "fb2d17f5-d5a2-42fc-890d-39f7dd137183",
   "metadata": {},
   "outputs": [],
   "source": [
    "reg = model.named_steps['regressor']\n"
   ]
  },
  {
   "cell_type": "code",
   "execution_count": 15,
   "id": "fe7aa701-c5b5-428d-8d42-c51a8269a11b",
   "metadata": {},
   "outputs": [
    {
     "name": "stdout",
     "output_type": "stream",
     "text": [
      "Intercept: 22.67629864265806\n",
      "Coefficients: [-0.03485454 -0.04062118 -0.0403899  -0.02779925 -0.06821816]\n",
      "final_draw_position               -0.0349\n",
      "final_televote_points             -0.0406\n",
      "final_jury_points                 -0.0404\n",
      "final_televote_votes              -0.0278\n",
      "final_jury_votes                  -0.0682\n"
     ]
    }
   ],
   "source": [
    "print(\"Intercept:\", reg.intercept_)\n",
    "print(\"Coefficients:\", reg.coef_)\n",
    "\n",
    "feature_names = X_train.columns\n",
    "coef_table = list(zip(feature_names, reg.coef_))\n",
    "for name, coef in coef_table:\n",
    "    print(f\"{name:30} {coef:>10.4f}\")\n"
   ]
  },
  {
   "cell_type": "code",
   "execution_count": 16,
   "id": "ef4bbe94-b8ba-42e5-b1d8-d9226f659c81",
   "metadata": {},
   "outputs": [],
   "source": [
    "y_pred = model.predict(X_test)"
   ]
  },
  {
   "cell_type": "code",
   "execution_count": 17,
   "id": "aa246823-3c9f-4133-9d5c-3f291e408dab",
   "metadata": {},
   "outputs": [
    {
     "name": "stdout",
     "output_type": "stream",
     "text": [
      "Model Evaluation Results:\n",
      "----------------------------\n",
      "MAE: 2.9073\n",
      "MSE: 12.8014\n",
      "RMSE: 3.5779\n",
      "R2: 0.7451\n",
      "\n",
      "Predictions (showing first 10 for brevity):\n",
      "20.09, 14.53, 14.94, 11.84, 18.33, 13.40, 17.96, 17.54, 13.20, 13.43\n"
     ]
    },
    {
     "name": "stderr",
     "output_type": "stream",
     "text": [
      "D:\\Anaconda\\Lib\\site-packages\\sklearn\\metrics\\_regression.py:492: FutureWarning: 'squared' is deprecated in version 1.4 and will be removed in 1.6. To calculate the root mean squared error, use the function'root_mean_squared_error'.\n",
      "  warnings.warn(\n"
     ]
    }
   ],
   "source": [
    "import sys\n",
    "import os\n",
    "\n",
    "# Use the current working directory instead of __file__\n",
    "current_directory = os.getcwd()\n",
    "\n",
    "# Add the path to the 'Modules' folder (adjust the path to reach the Modules folder)\n",
    "sys.path.append(os.path.join(current_directory, 'Modules'))\n",
    "\n",
    "# Now import the evalute function\n",
    "from machine_learning.evaluate import evaluate_model\n",
    "\n",
    "# Assuming you have your model, X_test, and y_test defined somewhere\n",
    "evaluation_results = evaluate_model(model, X_test, y_test)\n",
    "\n",
    "# Print the evaluation metrics in a formatted way\n",
    "print(\"Model Evaluation Results:\")\n",
    "print(\"----------------------------\")\n",
    "for metric, value in evaluation_results.items():\n",
    "    if metric != 'predictions':\n",
    "        print(f\"{metric}: {value:.4f}\")\n",
    "    else:\n",
    "        print(f\"\\nPredictions (showing first 10 for brevity):\")\n",
    "        print(\", \".join([f\"{v:.2f}\" for v in value[:10]]))  # Only show the first 10 predictions"
   ]
  },
  {
   "cell_type": "code",
   "execution_count": 18,
   "id": "7c6d8405-0f4d-431a-9c16-c3545be6c83f",
   "metadata": {},
   "outputs": [
    {
     "data": {
      "text/plain": [
       "array([20.09175253, 14.52593793, 14.94143027, 11.84458392, 18.33202704,\n",
       "       13.39687678, 17.96386917, 17.5399432 , 13.20112618, 13.42812005,\n",
       "       18.21266344, 12.99199893, 16.3193398 , 13.61938069, 19.05164715,\n",
       "       19.37306338, 20.37378795, 15.316726  , 14.56076736, 13.3645743 ,\n",
       "       12.68477084, 13.02685347, 13.65423523, 11.36289498, 16.21179654,\n",
       "       14.47332606,  6.45913882,  7.50891001, 20.40195216, -1.54097396,\n",
       "       16.23014406, -1.63823105, 14.18323474, 21.88772081, 11.54656102,\n",
       "       15.29833666,  5.46812269, 14.32217484,  6.78435076, 18.11165136,\n",
       "       19.55382092, 10.49429498,  6.63492669, 19.70001066, -0.37014876,\n",
       "       13.54967161, 18.08050059,  4.67128236, 20.32727259, 17.90731732,\n",
       "       17.46571021, 16.23924995, 13.05271465, 20.36227953, 13.07810554,\n",
       "       17.42174033, 16.11865257, 16.87483816, 17.09781458, 13.30568981,\n",
       "       17.72048199,  9.09961921, 13.70981063, 14.34403308, 21.8958745 ,\n",
       "       18.79681505,  6.02831481, 19.72313875, 19.27477671,  7.57635642,\n",
       "       10.44124447, 18.35957337, 11.59132728, 13.52221753, -2.49128449,\n",
       "       16.74852941,  5.34585804, 15.18828491, 16.45183206, 13.29788202,\n",
       "       18.39242858, -4.69753102, 16.59389991, 14.81082896, 16.72779823,\n",
       "        7.73461233, 13.70452082, 20.20020403, 14.64708948, 13.02685347,\n",
       "        9.35225301, 12.01975735, 16.59050846,  1.12696623])"
      ]
     },
     "execution_count": 18,
     "metadata": {},
     "output_type": "execute_result"
    }
   ],
   "source": [
    "y_pred"
   ]
  },
  {
   "cell_type": "code",
   "execution_count": 19,
   "id": "f2b7a0a2-14fe-46f5-b267-b84445c0c668",
   "metadata": {},
   "outputs": [
    {
     "data": {
      "image/png": "[encoded data removed]",
      "text/plain": [
       "<Figure size 800x600 with 1 Axes>"
      ]
     },
     "metadata": {},
     "output_type": "display_data"
    }
   ],
   "source": [
    "plt.figure(figsize=(8, 6))\n",
    "plt.scatter(y_test, y_pred, color='blue', alpha=0.6)\n",
    "plt.plot([y_test.min(), y_test.max()], [y_test.min(), y_test.max()], 'r--')  # Diagonal\n",
    "plt.xlabel('Actual Final Place')\n",
    "plt.ylabel('Predicted Final Place')\n",
    "plt.title('Predicted vs Actual Final Place')\n",
    "plt.grid(True)\n",
    "plt.show()"
   ]
  },
  {
   "cell_type": "code",
   "execution_count": 20,
   "id": "c8c7c9d0-295d-4be9-90e0-e2666e77ebdd",
   "metadata": {},
   "outputs": [
    {
     "data": {
      "text/plain": [
       "25.0"
      ]
     },
     "execution_count": 20,
     "metadata": {},
     "output_type": "execute_result"
    }
   ],
   "source": [
    "y_test.iloc[0]"
   ]
  },
  {
   "cell_type": "code",
   "execution_count": 21,
   "id": "401164da-fee1-407b-9b08-e676b4cd1fb2",
   "metadata": {},
   "outputs": [
    {
     "data": {
      "text/plain": [
       "20.09175253089686"
      ]
     },
     "execution_count": 21,
     "metadata": {},
     "output_type": "execute_result"
    }
   ],
   "source": [
    "y_pred[0]"
   ]
  },
  {
   "cell_type": "code",
   "execution_count": null,
   "id": "6d88f795-7fed-4120-8b15-a4b4b5e50ca7",
   "metadata": {},
   "outputs": [],
   "source": []
  },
  {
   "cell_type": "markdown",
   "id": "3d700c68-2148-4f52-ae1d-df10534aae69",
   "metadata": {},
   "source": [
    "## Store model"
   ]
  },
  {
   "cell_type": "code",
   "execution_count": 23,
   "id": "bb3fe835-e663-435e-942b-60f735833630",
   "metadata": {},
   "outputs": [],
   "source": [
    "import joblib"
   ]
  },
  {
   "cell_type": "code",
   "execution_count": 24,
   "id": "edd99573-d625-4c16-b925-dafbcaf70c6a",
   "metadata": {},
   "outputs": [],
   "source": [
    "# Store the model in a file\n",
    "model_file = 'Models/finalistfit.pkl'"
   ]
  },
  {
   "cell_type": "code",
   "execution_count": 25,
   "id": "4b2f9120-d8c8-4e9f-87f2-7a13df8c6b96",
   "metadata": {},
   "outputs": [
    {
     "data": {
      "text/plain": [
       "['Models/finalistfit.pkl']"
      ]
     },
     "execution_count": 25,
     "metadata": {},
     "output_type": "execute_result"
    }
   ],
   "source": [
    "# save the model\n",
    "joblib.dump(model, model_file)"
   ]
  }
 ],
 "metadata": {
  "kernelspec": {
   "display_name": "Python [conda env:base] *",
   "language": "python",
   "name": "conda-base-py"
  },
  "language_info": {
   "codemirror_mode": {
    "name": "ipython",
    "version": 3
   },
   "file_extension": ".py",
   "mimetype": "text/x-python",
   "name": "python",
   "nbconvert_exporter": "python",
   "pygments_lexer": "ipython3",
   "version": "3.12.7"
  }
 },
 "nbformat": 4,
 "nbformat_minor": 5
}
