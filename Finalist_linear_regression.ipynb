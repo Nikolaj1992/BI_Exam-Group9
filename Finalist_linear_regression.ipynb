{
 "cells": [
  {
   "cell_type": "markdown",
   "id": "d2d90605-6cb6-47dc-a0fa-232c880037f8",
   "metadata": {},
   "source": [
    "### Linear Regression on Finals\n"
   ]
  },
  {
   "cell_type": "markdown",
   "id": "fd6ba4ae-f0f5-49d5-8a46-c3e79b9e480d",
   "metadata": {},
   "source": [
    "#### Install Dependencies"
   ]
  },
  {
   "cell_type": "code",
   "execution_count": null,
   "id": "d2b4140d-f323-4f7b-8e84-71604c51ea6a",
   "metadata": {
    "scrolled": true
   },
   "outputs": [],
   "source": [
    "#!pip install streamlit-option-menu"
   ]
  },
  {
   "cell_type": "code",
   "execution_count": null,
   "id": "474a4731-b253-4144-9ca4-554a360a7ca6",
   "metadata": {},
   "outputs": [],
   "source": [
    "#!pip install streamlit_folium"
   ]
  },
  {
   "cell_type": "markdown",
   "id": "6ef5f192-fac5-4a92-9672-a0faa2cdf23d",
   "metadata": {},
   "source": [
    "#### Import Required Libraries"
   ]
  },
  {
   "cell_type": "code",
   "execution_count": null,
   "id": "179d7e69-9ffc-44c3-8c8b-d5d75cba2086",
   "metadata": {},
   "outputs": [],
   "source": [
    "# import\n",
    "import pandas as pd\n",
    "import numpy as np\n",
    "\n",
    "import seaborn as sns\n",
    "import matplotlib.pyplot as plt\n",
    "%matplotlib inline\n",
    "from sklearn.pipeline import Pipeline\n",
    "from sklearn.impute import SimpleImputer\n",
    "from sklearn.model_selection import train_test_split\n",
    "from sklearn.preprocessing import StandardScaler\n",
    "from sklearn.linear_model import LinearRegression\n",
    "import sklearn.metrics as sm\n",
    "from sklearn.metrics import r2_score"
   ]
  },
  {
   "cell_type": "markdown",
   "id": "6f9e6fa7-4a4a-43ae-bb2b-37de4cf3ecf4",
   "metadata": {},
   "source": [
    "#### Load Cleaned Dataset"
   ]
  },
  {
   "cell_type": "code",
   "execution_count": null,
   "id": "67b85810-3d16-4196-8399-a4d98e816152",
   "metadata": {},
   "outputs": [],
   "source": [
    "finalists_clean_df = pd.read_csv('Data/finalists_cleaned.csv')"
   ]
  },
  {
   "cell_type": "markdown",
   "id": "808c30af-faf7-406a-827a-df91232e3e37",
   "metadata": {},
   "source": [
    "#### Quick Look at the Data\n",
    "Preview the first few rows to verify that the dataset has been loaded correctly"
   ]
  },
  {
   "cell_type": "code",
   "execution_count": null,
   "id": "b5d7f203-0fee-4d88-8e7b-e2a281e3e3d4",
   "metadata": {},
   "outputs": [],
   "source": [
    "# Display the first few rows to verify\n",
    "print(finalists_clean_df.head())"
   ]
  },
  {
   "cell_type": "markdown",
   "id": "7f6d669e-7420-4773-9323-e3da82db5cb8",
   "metadata": {},
   "source": [
    "#### Dataset Dimensions\n",
    "Check the shape of the dataset to understand how many rows and columns it contains."
   ]
  },
  {
   "cell_type": "code",
   "execution_count": null,
   "id": "33751823-3827-4c66-a7a9-f7ca946a1edf",
   "metadata": {},
   "outputs": [],
   "source": [
    "finalists_clean_df.shape"
   ]
  },
  {
   "cell_type": "markdown",
   "id": "d643953f-794d-4b29-a17b-0235718a07af",
   "metadata": {},
   "source": [
    "#### Data Types \n",
    "Get a concise summary of the dataset"
   ]
  },
  {
   "cell_type": "code",
   "execution_count": null,
   "id": "8e9851ca-8b97-4241-9481-83de3de32fc3",
   "metadata": {},
   "outputs": [],
   "source": [
    "finalists_clean_df.info()"
   ]
  },
  {
   "cell_type": "markdown",
   "id": "d26fab1c-862a-42a0-8980-9e9f575d7430",
   "metadata": {},
   "source": [
    "#### Define Features and Target Variable\n",
    "Set the prediction target (final_place) and drop non-numeric and non-informative columns from the features."
   ]
  },
  {
   "cell_type": "code",
   "execution_count": null,
   "id": "30959df8-4480-439c-b66e-a602c753fa9c",
   "metadata": {},
   "outputs": [],
   "source": [
    "y = finalists_clean_df['final_place']\n",
    "\n",
    "# Features: drop target and categorical variables\n",
    "X = finalists_clean_df.drop(columns=['final_place', 'country', 'style','year', 'final_total_points'])\n",
    "\n",
    "# Define numeric feature names (all remaining)\n",
    "numeric_features = X.columns.tolist()\n"
   ]
  },
  {
   "cell_type": "code",
   "execution_count": null,
   "id": "9c285ec3-1ccb-4832-b221-4ef4f1ea1d04",
   "metadata": {
    "scrolled": true
   },
   "outputs": [],
   "source": [
    "y.head()"
   ]
  },
  {
   "cell_type": "markdown",
   "id": "fd2eba3e-2f8e-4565-8b65-dd606b32a26d",
   "metadata": {},
   "source": [
    "#### Split the Dataset\n",
    "Split the dataset into training and test sets using a 74%/26% ratio to train and evaluate the model."
   ]
  },
  {
   "cell_type": "code",
   "execution_count": null,
   "id": "2d6431a1-d6f3-4895-bbed-3f389b36e3d2",
   "metadata": {},
   "outputs": [],
   "source": [
    "# Split the dataset (74/26)\n",
    "X_train, X_test, y_train, y_test = train_test_split(X, y, test_size=0.26, random_state=42)\n"
   ]
  },
  {
   "cell_type": "markdown",
   "id": "b41af69d-e54e-4d05-a030-a41199507466",
   "metadata": {},
   "source": [
    "Print the shape of each split to ensure the dataset was divided correctly."
   ]
  },
  {
   "cell_type": "code",
   "execution_count": null,
   "id": "08b7dcae-e024-454a-ad70-b72284263cda",
   "metadata": {},
   "outputs": [],
   "source": [
    "print(X_train.shape)\n",
    "print(y_train.shape)\n",
    "print(X_test.shape)\n",
    "print(y_test.shape)"
   ]
  },
  {
   "cell_type": "markdown",
   "id": "5d542ea6-5d15-4cf3-8994-69e35edfa4b0",
   "metadata": {},
   "source": [
    "#### Build Modeling Pipeline\n",
    "Create a Scikit-learn Pipeline that includes imputation for missing values and a linear regression model.\n",
    "\n"
   ]
  },
  {
   "cell_type": "code",
   "execution_count": null,
   "id": "ad48e69a-f332-461e-a575-f5a578f01cff",
   "metadata": {
    "scrolled": true
   },
   "outputs": [],
   "source": [
    "model = Pipeline(steps=[\n",
    "    ('imputer', SimpleImputer(strategy='mean')),\n",
    "    ('scaler', StandardScaler()),\n",
    "    ('regressor', LinearRegression())\n",
    "])"
   ]
  },
  {
   "cell_type": "markdown",
   "id": "98038fac-bc17-48dd-a467-e8d61b4dcd2e",
   "metadata": {},
   "source": [
    "#### Train the Model\n",
    "Fit the linear regression pipeline on the training data."
   ]
  },
  {
   "cell_type": "code",
   "execution_count": null,
   "id": "0e3c5a70-fbbc-4ba7-8a79-36a2ee6a73b1",
   "metadata": {},
   "outputs": [],
   "source": [
    "# Fit and predict\n",
    "model.fit(X_train, y_train)\n"
   ]
  },
  {
   "cell_type": "code",
   "execution_count": null,
   "id": "fb2d17f5-d5a2-42fc-890d-39f7dd137183",
   "metadata": {},
   "outputs": [],
   "source": [
    "reg = model.named_steps['regressor']\n"
   ]
  },
  {
   "cell_type": "markdown",
   "id": "af9a059f-3596-4438-8c3c-c8e3e2ce0b79",
   "metadata": {},
   "source": [
    "#### Inspect Model Parameters\n",
    "Extract and print the model’s intercept and coefficients to understand how each feature contributes to the prediction."
   ]
  },
  {
   "cell_type": "code",
   "execution_count": null,
   "id": "fe7aa701-c5b5-428d-8d42-c51a8269a11b",
   "metadata": {},
   "outputs": [],
   "source": [
    "print(\"Intercept:\", reg.intercept_)\n",
    "print(\"Coefficients:\", reg.coef_)\n",
    "\n",
    "feature_names = X_train.columns\n",
    "coef_table = list(zip(feature_names, reg.coef_))\n",
    "for name, coef in coef_table:\n",
    "    print(f\"{name:30} {coef:>10.4f}\")\n"
   ]
  },
  {
   "cell_type": "markdown",
   "id": "c2ab5641-cce3-44bb-8d65-9b2fcbde08ac",
   "metadata": {},
   "source": [
    "#### Make Predictions\n",
    "Use the trained model to predict final placements on the test set."
   ]
  },
  {
   "cell_type": "code",
   "execution_count": null,
   "id": "ef4bbe94-b8ba-42e5-b1d8-d9226f659c81",
   "metadata": {},
   "outputs": [],
   "source": [
    "y_pred = model.predict(X_test)"
   ]
  },
  {
   "cell_type": "markdown",
   "id": "340c668e-2cb2-49d8-a5eb-692418d39a81",
   "metadata": {},
   "source": [
    "#### Evaluate Model Performance\n",
    "Import a custom evaluation function and print metrics like R², MAE, and RMSE to assess how well the model performs."
   ]
  },
  {
   "cell_type": "code",
   "execution_count": null,
   "id": "aa246823-3c9f-4133-9d5c-3f291e408dab",
   "metadata": {},
   "outputs": [],
   "source": [
    "import sys\n",
    "import os\n",
    "\n",
    "# Use the current working directory instead of __file__\n",
    "current_directory = os.getcwd()\n",
    "\n",
    "# Add the path to the 'Modules' folder (adjust the path to reach the Modules folder)\n",
    "sys.path.append(os.path.join(current_directory, 'Modules'))\n",
    "\n",
    "# Now import the evalute function\n",
    "from machine_learning.evaluate import evaluate_model\n",
    "\n",
    "# Assuming you have your model, X_test, and y_test defined somewhere\n",
    "evaluation_results = evaluate_model(model, X_test, y_test)\n",
    "\n",
    "# Print the evaluation metrics in a formatted way\n",
    "print(\"Model Evaluation Results:\")\n",
    "print(\"----------------------------\")\n",
    "for metric, value in evaluation_results.items():\n",
    "    if metric != 'predictions':\n",
    "        print(f\"{metric}: {value:.4f}\")\n",
    "    else:\n",
    "        print(f\"\\nPredictions (showing first 10 for brevity):\")\n",
    "        print(\", \".join([f\"{v:.2f}\" for v in value[:10]]))  # Only show the first 10 predictions"
   ]
  },
  {
   "cell_type": "markdown",
   "id": "5d18cb0f-fe04-40a7-8d56-311654baa31c",
   "metadata": {},
   "source": [
    "The model explains about 74.5% of the variance in final placement. By removing some coloumns and tweeking the test size, we found this was the highest R2. the test-size ended on 74/26"
   ]
  },
  {
   "cell_type": "code",
   "execution_count": null,
   "id": "7c6d8405-0f4d-431a-9c16-c3545be6c83f",
   "metadata": {},
   "outputs": [],
   "source": [
    "y_pred"
   ]
  },
  {
   "cell_type": "markdown",
   "id": "96b80146-c6de-4ab4-be6f-7d4166856762",
   "metadata": {},
   "source": [
    "#### Visualize Predictions\n",
    "Plot a scatter plot comparing predicted and actual final placements to evaluate model accuracy visually."
   ]
  },
  {
   "cell_type": "code",
   "execution_count": null,
   "id": "f2b7a0a2-14fe-46f5-b267-b84445c0c668",
   "metadata": {},
   "outputs": [],
   "source": [
    "plt.figure(figsize=(8, 6))\n",
    "plt.scatter(y_test, y_pred, color='blue', alpha=0.6)\n",
    "plt.plot([y_test.min(), y_test.max()], [y_test.min(), y_test.max()], 'r--')  # Diagonal\n",
    "plt.xlabel('Actual Final Place')\n",
    "plt.ylabel('Predicted Final Place')\n",
    "plt.title('Predicted vs Actual Final Place')\n",
    "plt.grid(True)\n",
    "plt.show()"
   ]
  },
  {
   "cell_type": "markdown",
   "id": "47424aeb-b3e3-4a30-aa20-b09e0b625548",
   "metadata": {},
   "source": [
    "#### Compare Specific Prediction\n",
    "Display a single value from y_test and its corresponding prediction to see the model’s precision on a specific sample."
   ]
  },
  {
   "cell_type": "code",
   "execution_count": null,
   "id": "c8c7c9d0-295d-4be9-90e0-e2666e77ebdd",
   "metadata": {},
   "outputs": [],
   "source": [
    "y_test.iloc[0]"
   ]
  },
  {
   "cell_type": "code",
   "execution_count": null,
   "id": "401164da-fee1-407b-9b08-e676b4cd1fb2",
   "metadata": {},
   "outputs": [],
   "source": [
    "y_pred[0]"
   ]
  },
  {
   "cell_type": "markdown",
   "id": "3d700c68-2148-4f52-ae1d-df10534aae69",
   "metadata": {},
   "source": [
    "## Store model"
   ]
  },
  {
   "cell_type": "code",
   "execution_count": null,
   "id": "bb3fe835-e663-435e-942b-60f735833630",
   "metadata": {},
   "outputs": [],
   "source": [
    "import joblib"
   ]
  },
  {
   "cell_type": "code",
   "execution_count": null,
   "id": "edd99573-d625-4c16-b925-dafbcaf70c6a",
   "metadata": {},
   "outputs": [],
   "source": [
    "# Store the model in a file\n",
    "model_file = 'Models/finalistfit.pkl'"
   ]
  },
  {
   "cell_type": "code",
   "execution_count": null,
   "id": "4b2f9120-d8c8-4e9f-87f2-7a13df8c6b96",
   "metadata": {},
   "outputs": [],
   "source": [
    "# save the model\n",
    "joblib.dump(model, model_file)"
   ]
  }
 ],
 "metadata": {
  "kernelspec": {
   "display_name": "Python [conda env:base] *",
   "language": "python",
   "name": "conda-base-py"
  },
  "language_info": {
   "codemirror_mode": {
    "name": "ipython",
    "version": 3
   },
   "file_extension": ".py",
   "mimetype": "text/x-python",
   "name": "python",
   "nbconvert_exporter": "python",
   "pygments_lexer": "ipython3",
   "version": "3.12.7"
  }
 },
 "nbformat": 4,
 "nbformat_minor": 5
}
