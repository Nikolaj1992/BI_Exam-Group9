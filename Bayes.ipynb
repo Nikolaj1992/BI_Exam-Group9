{
 "cells": [
  {
   "cell_type": "markdown",
   "id": "ca07a041-67c6-4818-bc36-cfde584f35d3",
   "metadata": {},
   "source": [
    "### Naives Bayes Classification \n",
    "with features final_draw_position, final_televote_points, final_jury_points"
   ]
  },
  {
   "cell_type": "markdown",
   "id": "df81b375-259e-410c-b34e-7ffdaa142ef1",
   "metadata": {},
   "source": [
    "#### Import Libraries"
   ]
  },
  {
   "cell_type": "code",
   "execution_count": null,
   "id": "75480705-e640-40b7-b2cd-f633dff123ad",
   "metadata": {},
   "outputs": [],
   "source": [
    "import pandas as pd\n",
    "from pandas.plotting import scatter_matrix\n",
    "import matplotlib.pyplot as plt\n",
    "import seaborn as sns\n",
    "from sklearn import model_selection\n",
    "from sklearn.metrics import classification_report\n",
    "from sklearn.metrics import confusion_matrix\n",
    "from sklearn.metrics import accuracy_score\n",
    "from sklearn.naive_bayes import GaussianNB"
   ]
  },
  {
   "cell_type": "markdown",
   "id": "3dcfdd93-e812-43cd-858b-788a0fd42727",
   "metadata": {},
   "source": [
    "#### Load Data"
   ]
  },
  {
   "cell_type": "code",
   "execution_count": null,
   "id": "85b3bbbd-7f5b-4ec5-9a6d-8256ea6c3f66",
   "metadata": {},
   "outputs": [],
   "source": [
    "df = pd.read_csv('Data/finalists_cleaned.csv')"
   ]
  },
  {
   "cell_type": "markdown",
   "id": "49680595-22a7-47f9-a82f-1952504f6a0c",
   "metadata": {},
   "source": [
    "#### Create Binary Target Variable"
   ]
  },
  {
   "cell_type": "code",
   "execution_count": null,
   "id": "0b091c76-9ea1-4977-9d43-6a73769d9101",
   "metadata": {},
   "outputs": [],
   "source": [
    "# Binary classification: 1 = Top 10, 0 = Not Top 10\n",
    "df['top_10'] = df['final_place'].apply(lambda x: 1 if x <= 10 else 0)"
   ]
  },
  {
   "cell_type": "markdown",
   "id": "e95fa1ad-c504-410d-963f-b9beb13ee427",
   "metadata": {},
   "source": [
    "#### Select Features and Target"
   ]
  },
  {
   "cell_type": "code",
   "execution_count": null,
   "id": "20880a3d-e1a4-4a2e-b19e-b7430458c757",
   "metadata": {},
   "outputs": [],
   "source": [
    "features = [\n",
    "    'final_draw_position',\n",
    "    'final_televote_points', 'final_jury_points'\n",
    "]\n",
    "X = df[features]\n",
    "y = df['top_10']"
   ]
  },
  {
   "cell_type": "markdown",
   "id": "bb3f63df-7599-4cd1-b200-d5c290fa4f70",
   "metadata": {},
   "source": [
    "#### Handle Missing Values\n",
    "should have been done in an earlier process "
   ]
  },
  {
   "cell_type": "code",
   "execution_count": null,
   "id": "f93a0e38-5558-41ca-b4ff-9bd84f55ed7f",
   "metadata": {},
   "outputs": [],
   "source": [
    "print(\"Missing values BEFORE fillna:\")\n",
    "print(X.isnull().sum())\n",
    "\n",
    "X = X.fillna(X.mean())  # Fill missing values\n",
    "\n",
    "print(\"Missing values AFTER fillna:\")\n",
    "print(X.isnull().sum())"
   ]
  },
  {
   "cell_type": "markdown",
   "id": "90525d34-871e-4633-93a3-af3b3684486a",
   "metadata": {},
   "source": [
    "#### Splitting For Test"
   ]
  },
  {
   "cell_type": "code",
   "execution_count": null,
   "id": "f2ad2878-9abd-4acc-9d3e-ffd8f6b8fdb8",
   "metadata": {},
   "outputs": [],
   "source": [
    "X_train, X_test, y_train, y_test = model_selection.train_test_split(X, y, test_size=0.2, random_state=7)"
   ]
  },
  {
   "cell_type": "markdown",
   "id": "85ed0f06-8179-44e3-8912-c7de3fb544ab",
   "metadata": {},
   "source": [
    "#### Train Naive Bayes Model"
   ]
  },
  {
   "cell_type": "code",
   "execution_count": null,
   "id": "7497c5a4-49b5-4b2b-bc7f-1d8b0e2ee981",
   "metadata": {},
   "outputs": [],
   "source": [
    "model = GaussianNB()\n",
    "model.fit(X_train, y_train)"
   ]
  },
  {
   "cell_type": "markdown",
   "id": "ae1c0a60-0b75-42e6-86cf-22f8e2a27da4",
   "metadata": {},
   "source": [
    "#### Evaluate Model Performance"
   ]
  },
  {
   "cell_type": "code",
   "execution_count": null,
   "id": "b23374a3-de41-4721-b1ad-cc28f252ff9c",
   "metadata": {},
   "outputs": [],
   "source": [
    "y_pred = model.predict(X_test)\n",
    "\n",
    "# Accuracy and report\n",
    "print(\"Accuracy:\", accuracy_score(y_test, y_pred))\n",
    "print(classification_report(y_test, y_pred))\n",
    "\n",
    "# Confusion matrix\n",
    "cm = confusion_matrix(y_test, y_pred)\n",
    "sns.heatmap(cm, annot=True, fmt='d', cmap='Blues')\n",
    "plt.xlabel('Predicted')\n",
    "plt.ylabel('Actual')\n",
    "plt.title('Confusion Matrix')\n",
    "plt.show()"
   ]
  },
  {
   "cell_type": "markdown",
   "id": "21288071-6c23-45a0-a24e-2e70a7efecd8",
   "metadata": {},
   "source": [
    "#### Prediction on a New Sample"
   ]
  },
  {
   "cell_type": "code",
   "execution_count": null,
   "id": "2eeccc81-ca15-4d85-87ac-592b96f5bf89",
   "metadata": {},
   "outputs": [],
   "source": [
    "sample = [[2, 20, 13]]  # draw, televote pts, jury pts\n",
    "prediction = model.predict(sample)\n",
    "print(\"Top 10 prediction:\", \"Yes\" if prediction[0] == 1 else \"No\")"
   ]
  },
  {
   "cell_type": "markdown",
   "id": "24504738-3d4d-4bc0-ae18-c176f8fd4c3c",
   "metadata": {},
   "source": [
    "#### Saving The Model"
   ]
  },
  {
   "cell_type": "code",
   "execution_count": null,
   "id": "f237ec7e-bdf9-444c-b9a7-69d3f2de341a",
   "metadata": {},
   "outputs": [],
   "source": [
    "import joblib"
   ]
  },
  {
   "cell_type": "code",
   "execution_count": null,
   "id": "6d7c0df4-aa78-41e4-93c1-ff8d14c25efc",
   "metadata": {},
   "outputs": [],
   "source": [
    "# Store the model in a file\n",
    "model_file = 'Models/bayes.pkl'"
   ]
  },
  {
   "cell_type": "code",
   "execution_count": null,
   "id": "12711b90-d25b-4647-8ee8-92721f42b65c",
   "metadata": {},
   "outputs": [],
   "source": [
    "joblib.dump(model, model_file)"
   ]
  },
  {
   "cell_type": "code",
   "execution_count": null,
   "id": "65f72675-6c41-4301-a755-0ec67cd6e26b",
   "metadata": {},
   "outputs": [],
   "source": []
  }
 ],
 "metadata": {
  "kernelspec": {
   "display_name": "Python [conda env:base] *",
   "language": "python",
   "name": "conda-base-py"
  },
  "language_info": {
   "codemirror_mode": {
    "name": "ipython",
    "version": 3
   },
   "file_extension": ".py",
   "mimetype": "text/x-python",
   "name": "python",
   "nbconvert_exporter": "python",
   "pygments_lexer": "ipython3",
   "version": "3.12.7"
  }
 },
 "nbformat": 4,
 "nbformat_minor": 5
}
